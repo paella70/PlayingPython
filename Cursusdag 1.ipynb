{
 "cells": [
  {
   "cell_type": "code",
   "execution_count": 50,
   "id": "d6f155a5",
   "metadata": {},
   "outputs": [],
   "source": [
    "grocery_list = ['spam', 'ham', 'eggs', 'cheese']"
   ]
  },
  {
   "cell_type": "code",
   "execution_count": 56,
   "id": "20ae6d8a",
   "metadata": {},
   "outputs": [],
   "source": [
    "grocery_list.append(\"onion\")"
   ]
  },
  {
   "cell_type": "code",
   "execution_count": 72,
   "id": "971a00a8",
   "metadata": {},
   "outputs": [
    {
     "data": {
      "text/plain": [
       "'ONION'"
      ]
     },
     "execution_count": 72,
     "metadata": {},
     "output_type": "execute_result"
    }
   ],
   "source": [
    "grocery_list[5][0].upper()"
   ]
  },
  {
   "cell_type": "code",
   "execution_count": 62,
   "id": "1749ad88",
   "metadata": {},
   "outputs": [],
   "source": [
    "grocery_list[3] = \"bubblegum\""
   ]
  },
  {
   "cell_type": "code",
   "execution_count": 69,
   "id": "91679ebd",
   "metadata": {},
   "outputs": [],
   "source": [
    "grocery_list.append(extra_ingredients)"
   ]
  },
  {
   "cell_type": "code",
   "execution_count": 66,
   "id": "3f11f9eb",
   "metadata": {},
   "outputs": [],
   "source": [
    "grocery_list.sort()"
   ]
  },
  {
   "cell_type": "code",
   "execution_count": 68,
   "id": "bc7dd7bc",
   "metadata": {},
   "outputs": [],
   "source": [
    "extra_ingredients = ['onion', 'mushrooms', 'pepper']\n"
   ]
  },
  {
   "cell_type": "raw",
   "id": "b0a4eb37",
   "metadata": {},
   "source": [
    "matrix = [['A', 'B', 'C'], ['D', 'E', 'F'], ['G', 'H', 'I']]"
   ]
  },
  {
   "cell_type": "code",
   "execution_count": 73,
   "id": "483d045c",
   "metadata": {},
   "outputs": [
    {
     "ename": "NameError",
     "evalue": "name 'matrix' is not defined",
     "output_type": "error",
     "traceback": [
      "\u001b[0;31m---------------------------------------------------------------------------\u001b[0m",
      "\u001b[0;31mNameError\u001b[0m                                 Traceback (most recent call last)",
      "\u001b[0;32m/var/folders/gj/_n6hcyfs061cmyc4vcjd379m0000gn/T/ipykernel_85455/1745673959.py\u001b[0m in \u001b[0;36m<module>\u001b[0;34m\u001b[0m\n\u001b[0;32m----> 1\u001b[0;31m \u001b[0mmatrix\u001b[0m\u001b[0;34m\u001b[0m\u001b[0;34m\u001b[0m\u001b[0m\n\u001b[0m",
      "\u001b[0;31mNameError\u001b[0m: name 'matrix' is not defined"
     ]
    }
   ],
   "source": [
    "print (matrix[1])\n"
   ]
  },
  {
   "cell_type": "code",
   "execution_count": 74,
   "id": "a251ba7c",
   "metadata": {},
   "outputs": [],
   "source": [
    "matrix = [['A', 'B', 'C'], ['D', 'E', 'F'], ['G', 'H', 'I']]"
   ]
  },
  {
   "cell_type": "code",
   "execution_count": 75,
   "id": "9260a50c",
   "metadata": {},
   "outputs": [
    {
     "data": {
      "text/plain": [
       "[['A', 'B', 'C'], ['D', 'E', 'F'], ['G', 'H', 'I']]"
      ]
     },
     "execution_count": 75,
     "metadata": {},
     "output_type": "execute_result"
    }
   ],
   "source": [
    "matrix\n"
   ]
  },
  {
   "cell_type": "code",
   "execution_count": 76,
   "id": "a412df01",
   "metadata": {},
   "outputs": [
    {
     "data": {
      "text/plain": [
       "'D'"
      ]
     },
     "execution_count": 76,
     "metadata": {},
     "output_type": "execute_result"
    }
   ],
   "source": [
    "matrix[1][0]"
   ]
  },
  {
   "cell_type": "code",
   "execution_count": 77,
   "id": "458d8769",
   "metadata": {},
   "outputs": [
    {
     "data": {
      "text/plain": [
       "'I'"
      ]
     },
     "execution_count": 77,
     "metadata": {},
     "output_type": "execute_result"
    }
   ],
   "source": [
    "matrix[2][2]"
   ]
  },
  {
   "cell_type": "code",
   "execution_count": 78,
   "id": "703410e1",
   "metadata": {},
   "outputs": [],
   "source": [
    "list_1 = [1, 2, 3]\n",
    "list_2 = [4, 5, 6]"
   ]
  },
  {
   "cell_type": "code",
   "execution_count": 79,
   "id": "99f5c34f",
   "metadata": {},
   "outputs": [
    {
     "name": "stdout",
     "output_type": "stream",
     "text": [
      "[1, 2, 3, 4, 5, 6]\n"
     ]
    }
   ],
   "source": [
    "print(list_1 + list_2)\n"
   ]
  },
  {
   "cell_type": "code",
   "execution_count": 80,
   "id": "1bc9b659",
   "metadata": {},
   "outputs": [
    {
     "name": "stdout",
     "output_type": "stream",
     "text": [
      "[[1, 2, 3], [4, 5, 6]]\n"
     ]
    }
   ],
   "source": [
    "print([list_1, list_2])\n"
   ]
  },
  {
   "cell_type": "code",
   "execution_count": 81,
   "id": "9fb5076d",
   "metadata": {},
   "outputs": [],
   "source": [
    "namen = [\"jan\", \"piet\", \"kees\"]"
   ]
  },
  {
   "cell_type": "code",
   "execution_count": 88,
   "id": "445db9ff",
   "metadata": {},
   "outputs": [
    {
     "data": {
      "text/plain": [
       "'kees'"
      ]
     },
     "execution_count": 88,
     "metadata": {},
     "output_type": "execute_result"
    }
   ],
   "source": [
    "namen[2]\n"
   ]
  },
  {
   "cell_type": "code",
   "execution_count": 83,
   "id": "3a334f50",
   "metadata": {},
   "outputs": [
    {
     "data": {
      "text/plain": [
       "['jan', 'piet', 'kees']"
      ]
     },
     "execution_count": 83,
     "metadata": {},
     "output_type": "execute_result"
    }
   ],
   "source": [
    "namen"
   ]
  },
  {
   "cell_type": "code",
   "execution_count": 89,
   "id": "dd8746de",
   "metadata": {},
   "outputs": [
    {
     "data": {
      "text/plain": [
       "['jan', 'piet', 'kees']"
      ]
     },
     "execution_count": 89,
     "metadata": {},
     "output_type": "execute_result"
    }
   ],
   "source": [
    "namen"
   ]
  },
  {
   "cell_type": "code",
   "execution_count": 84,
   "id": "7e5da4a6",
   "metadata": {},
   "outputs": [
    {
     "name": "stdout",
     "output_type": "stream",
     "text": [
      "4\n"
     ]
    }
   ],
   "source": [
    "vraag = input()\n"
   ]
  },
  {
   "cell_type": "code",
   "execution_count": 87,
   "id": "566b3da3",
   "metadata": {},
   "outputs": [
    {
     "data": {
      "text/plain": [
       "int"
      ]
     },
     "execution_count": 87,
     "metadata": {},
     "output_type": "execute_result"
    }
   ],
   "source": [
    "type(vraag)"
   ]
  },
  {
   "cell_type": "code",
   "execution_count": 86,
   "id": "55487b55",
   "metadata": {},
   "outputs": [],
   "source": [
    "vraag =int(vraag)"
   ]
  },
  {
   "cell_type": "code",
   "execution_count": 90,
   "id": "ac2077ae",
   "metadata": {},
   "outputs": [],
   "source": [
    "alphabet = ('a', 'b', 'c', 'd', 'e')"
   ]
  },
  {
   "cell_type": "code",
   "execution_count": 91,
   "id": "cd5dfab8",
   "metadata": {},
   "outputs": [
    {
     "data": {
      "text/plain": [
       "'e'"
      ]
     },
     "execution_count": 91,
     "metadata": {},
     "output_type": "execute_result"
    }
   ],
   "source": [
    "alphabet[-1]"
   ]
  },
  {
   "cell_type": "code",
   "execution_count": 99,
   "id": "dd0f9fd4",
   "metadata": {},
   "outputs": [],
   "source": [
    "t = ('apple', 'EUR', [10, 20, 30])"
   ]
  },
  {
   "cell_type": "code",
   "execution_count": 100,
   "id": "48a4e89f",
   "metadata": {},
   "outputs": [
    {
     "data": {
      "text/plain": [
       "('apple', 'EUR', [10, 20, 60])"
      ]
     },
     "execution_count": 100,
     "metadata": {},
     "output_type": "execute_result"
    }
   ],
   "source": [
    "t[2][2] = t[2][2]*2\n",
    "t"
   ]
  },
  {
   "cell_type": "code",
   "execution_count": 101,
   "id": "886463c5",
   "metadata": {},
   "outputs": [],
   "source": [
    "color = (0, 255, 0)"
   ]
  },
  {
   "cell_type": "code",
   "execution_count": 102,
   "id": "539d1823",
   "metadata": {},
   "outputs": [
    {
     "data": {
      "text/plain": [
       "0"
      ]
     },
     "execution_count": 102,
     "metadata": {},
     "output_type": "execute_result"
    }
   ],
   "source": [
    "red, green, blue = color\n",
    "red"
   ]
  },
  {
   "cell_type": "code",
   "execution_count": 103,
   "id": "2a36a997",
   "metadata": {},
   "outputs": [
    {
     "data": {
      "text/plain": [
       "255"
      ]
     },
     "execution_count": 103,
     "metadata": {},
     "output_type": "execute_result"
    }
   ],
   "source": [
    "green"
   ]
  },
  {
   "cell_type": "code",
   "execution_count": 104,
   "id": "7b61b07a",
   "metadata": {},
   "outputs": [
    {
     "data": {
      "text/plain": [
       "0"
      ]
     },
     "execution_count": 104,
     "metadata": {},
     "output_type": "execute_result"
    }
   ],
   "source": [
    "blue"
   ]
  },
  {
   "cell_type": "code",
   "execution_count": 109,
   "id": "9c2989e6",
   "metadata": {},
   "outputs": [],
   "source": [
    "currencies = ('EUR', 'EUR', 'EUR', 'USD', 'CHF')"
   ]
  },
  {
   "cell_type": "code",
   "execution_count": 106,
   "id": "e064fed9",
   "metadata": {},
   "outputs": [],
   "source": [
    "currencies = ('EUR', 'EUR', 'EUR', 'USD', 'CHF').count(\"EUR\")"
   ]
  },
  {
   "cell_type": "code",
   "execution_count": 108,
   "id": "97b76f2c",
   "metadata": {},
   "outputs": [
    {
     "ename": "AttributeError",
     "evalue": "'int' object has no attribute 'count'",
     "output_type": "error",
     "traceback": [
      "\u001b[0;31m---------------------------------------------------------------------------\u001b[0m",
      "\u001b[0;31mAttributeError\u001b[0m                            Traceback (most recent call last)",
      "\u001b[0;32m/var/folders/gj/_n6hcyfs061cmyc4vcjd379m0000gn/T/ipykernel_85455/623137304.py\u001b[0m in \u001b[0;36m<module>\u001b[0;34m\u001b[0m\n\u001b[0;32m----> 1\u001b[0;31m \u001b[0mcurrencies\u001b[0m\u001b[0;34m.\u001b[0m\u001b[0mcount\u001b[0m\u001b[0;34m(\u001b[0m\u001b[0;34m\"EUR\"\u001b[0m\u001b[0;34m)\u001b[0m\u001b[0;34m\u001b[0m\u001b[0;34m\u001b[0m\u001b[0m\n\u001b[0m",
      "\u001b[0;31mAttributeError\u001b[0m: 'int' object has no attribute 'count'"
     ]
    }
   ],
   "source": [
    "currencies.count(\"EUR\")"
   ]
  },
  {
   "cell_type": "code",
   "execution_count": 110,
   "id": "e46341cd",
   "metadata": {},
   "outputs": [],
   "source": [
    "currencies = ('EUR', 'EUR', 'EUR', 'USD', 'CHF')\n"
   ]
  },
  {
   "cell_type": "code",
   "execution_count": 113,
   "id": "374f6ece",
   "metadata": {},
   "outputs": [
    {
     "data": {
      "text/plain": [
       "4"
      ]
     },
     "execution_count": 113,
     "metadata": {},
     "output_type": "execute_result"
    }
   ],
   "source": [
    "currencies.index(\"CHF\")"
   ]
  },
  {
   "cell_type": "code",
   "execution_count": 114,
   "id": "9aa235b8",
   "metadata": {},
   "outputs": [],
   "source": [
    "client = {'name': 'John Doe', 'age': 42, 'email': 'john@doe.com', 'country': 'United Kingdkom'}"
   ]
  },
  {
   "cell_type": "code",
   "execution_count": 116,
   "id": "076f2afc",
   "metadata": {},
   "outputs": [
    {
     "name": "stdout",
     "output_type": "stream",
     "text": [
      "john@doe.com\n"
     ]
    }
   ],
   "source": [
    "print (client['email'])"
   ]
  },
  {
   "cell_type": "code",
   "execution_count": 118,
   "id": "558f232a",
   "metadata": {},
   "outputs": [],
   "source": [
    "client['age'] = client['age']-10\n"
   ]
  },
  {
   "cell_type": "code",
   "execution_count": 119,
   "id": "d96e5af6",
   "metadata": {},
   "outputs": [
    {
     "data": {
      "text/plain": [
       "32"
      ]
     },
     "execution_count": 119,
     "metadata": {},
     "output_type": "execute_result"
    }
   ],
   "source": [
    "client['age']"
   ]
  },
  {
   "cell_type": "code",
   "execution_count": 123,
   "id": "25fc9e9c",
   "metadata": {},
   "outputs": [
    {
     "name": "stdout",
     "output_type": "stream",
     "text": [
      "dict_values(['John Doe', 32, 'john@doe.com', 'United Kingdkom'])\n"
     ]
    }
   ],
   "source": [
    "print (client.values())"
   ]
  },
  {
   "cell_type": "code",
   "execution_count": 124,
   "id": "8d9b832c",
   "metadata": {},
   "outputs": [],
   "source": [
    "client = {'name': 'John Doe', \n",
    "          'age': 42, \n",
    "          'email': 'john@doe.com', \n",
    "          'address': {'street': 'Abbey Road', 'city': 'London', 'country': 'United Kingdom'},\n",
    "          'children': ['Sophia', 'Emma']\n",
    "         }"
   ]
  },
  {
   "cell_type": "code",
   "execution_count": 129,
   "id": "2874f9ad",
   "metadata": {},
   "outputs": [
    {
     "name": "stdout",
     "output_type": "stream",
     "text": [
      "Abbey Road\n"
     ]
    }
   ],
   "source": [
    "print (client['address']['street'])\n"
   ]
  },
  {
   "cell_type": "code",
   "execution_count": 130,
   "id": "0d54a8b5",
   "metadata": {},
   "outputs": [
    {
     "name": "stdout",
     "output_type": "stream",
     "text": [
      "Sophia\n"
     ]
    }
   ],
   "source": [
    "print (client['children'][0])"
   ]
  },
  {
   "cell_type": "code",
   "execution_count": 138,
   "id": "97f92b24",
   "metadata": {},
   "outputs": [],
   "source": [
    "menu = [\"Spam\", \"Sausage\", \"Spam\", \"Spam\", \"Spam\", \"Bacon\", \"Spam\", \"Tomato\", \"Spam\"]"
   ]
  },
  {
   "cell_type": "code",
   "execution_count": 132,
   "id": "a373659f",
   "metadata": {},
   "outputs": [
    {
     "data": {
      "text/plain": [
       "{'Bacon', 'Sausage', 'Spam', 'Tomato'}"
      ]
     },
     "execution_count": 132,
     "metadata": {},
     "output_type": "execute_result"
    }
   ],
   "source": [
    "set(menu)"
   ]
  },
  {
   "cell_type": "code",
   "execution_count": 133,
   "id": "063f9241",
   "metadata": {},
   "outputs": [],
   "source": [
    "menu = {'Bacon', 'Spam', 'Sausage'}\n"
   ]
  },
  {
   "cell_type": "code",
   "execution_count": 135,
   "id": "67c92aba",
   "metadata": {},
   "outputs": [],
   "source": [
    "menu.add('Tomato')"
   ]
  },
  {
   "cell_type": "markdown",
   "id": "22d19278",
   "metadata": {},
   "source": [
    "menu"
   ]
  },
  {
   "cell_type": "code",
   "execution_count": 136,
   "id": "8f178283",
   "metadata": {},
   "outputs": [
    {
     "name": "stdout",
     "output_type": "stream",
     "text": [
      "{'Tomato', 'Sausage', 'Bacon', 'Spam'}\n"
     ]
    }
   ],
   "source": [
    "print (menu)"
   ]
  },
  {
   "cell_type": "code",
   "execution_count": 137,
   "id": "4a8d3e2e",
   "metadata": {},
   "outputs": [
    {
     "data": {
      "text/plain": [
       "4"
      ]
     },
     "execution_count": 137,
     "metadata": {},
     "output_type": "execute_result"
    }
   ],
   "source": [
    "len(menu)"
   ]
  },
  {
   "cell_type": "code",
   "execution_count": 139,
   "id": "9eaeaed2",
   "metadata": {},
   "outputs": [],
   "source": [
    "menu = [\"Spam\", \"Sausage\", \"Spam\", \"Spam\", \"Spam\", \"Bacon\", \"Spam\", \"Tomato\", \"Spam\"]"
   ]
  },
  {
   "cell_type": "code",
   "execution_count": 140,
   "id": "e5afbba6",
   "metadata": {},
   "outputs": [
    {
     "data": {
      "text/plain": [
       "9"
      ]
     },
     "execution_count": 140,
     "metadata": {},
     "output_type": "execute_result"
    }
   ],
   "source": [
    "len (menu)\n"
   ]
  },
  {
   "cell_type": "code",
   "execution_count": 142,
   "id": "61a93729",
   "metadata": {},
   "outputs": [
    {
     "data": {
      "text/plain": [
       "4"
      ]
     },
     "execution_count": 142,
     "metadata": {},
     "output_type": "execute_result"
    }
   ],
   "source": [
    "len(set(menu))"
   ]
  },
  {
   "cell_type": "code",
   "execution_count": 143,
   "id": "7f49898c",
   "metadata": {},
   "outputs": [],
   "source": [
    "menu = {'Bacon', 'Spam', 'Sausage'}"
   ]
  },
  {
   "cell_type": "code",
   "execution_count": 144,
   "id": "4fb15b56",
   "metadata": {},
   "outputs": [],
   "source": [
    "menu.add('Tomato')"
   ]
  },
  {
   "cell_type": "code",
   "execution_count": 145,
   "id": "bb476933",
   "metadata": {},
   "outputs": [
    {
     "data": {
      "text/plain": [
       "{'Bacon', 'Sausage', 'Spam', 'Tomato'}"
      ]
     },
     "execution_count": 145,
     "metadata": {},
     "output_type": "execute_result"
    }
   ],
   "source": [
    "menu\n"
   ]
  },
  {
   "cell_type": "code",
   "execution_count": 147,
   "id": "872957bd",
   "metadata": {},
   "outputs": [],
   "source": [
    "menu.update(\"Mushroom\",\"Eggs\")"
   ]
  },
  {
   "cell_type": "code",
   "execution_count": 148,
   "id": "8479ffc6",
   "metadata": {},
   "outputs": [
    {
     "data": {
      "text/plain": [
       "{'Bacon',\n",
       " 'E',\n",
       " 'M',\n",
       " 'Sausage',\n",
       " 'Spam',\n",
       " 'Tomato',\n",
       " 'g',\n",
       " 'h',\n",
       " 'm',\n",
       " 'o',\n",
       " 'r',\n",
       " 's',\n",
       " 'u'}"
      ]
     },
     "execution_count": 148,
     "metadata": {},
     "output_type": "execute_result"
    }
   ],
   "source": [
    "menu\n"
   ]
  },
  {
   "cell_type": "code",
   "execution_count": 149,
   "id": "4199d906",
   "metadata": {},
   "outputs": [],
   "source": [
    "menu = {'Bacon', 'Spam', 'Sausage'}"
   ]
  },
  {
   "cell_type": "code",
   "execution_count": 150,
   "id": "22507349",
   "metadata": {},
   "outputs": [],
   "source": [
    "menu.add('Tomato')"
   ]
  },
  {
   "cell_type": "code",
   "execution_count": 151,
   "id": "c5ea8daa",
   "metadata": {},
   "outputs": [],
   "source": [
    "menu.update([\"Mushroom\",\"Eggs\"])"
   ]
  },
  {
   "cell_type": "code",
   "execution_count": 152,
   "id": "c99f4cf3",
   "metadata": {},
   "outputs": [
    {
     "data": {
      "text/plain": [
       "{'Bacon', 'Eggs', 'Mushroom', 'Sausage', 'Spam', 'Tomato'}"
      ]
     },
     "execution_count": 152,
     "metadata": {},
     "output_type": "execute_result"
    }
   ],
   "source": [
    "menu\n",
    "\n"
   ]
  },
  {
   "cell_type": "code",
   "execution_count": 153,
   "id": "0e5484f7",
   "metadata": {},
   "outputs": [],
   "source": [
    "set1 = {10, 20, 30, 40, 50}\n",
    "set2 = {20, 50, 50, 70, 90}"
   ]
  },
  {
   "cell_type": "code",
   "execution_count": 154,
   "id": "7f314862",
   "metadata": {},
   "outputs": [
    {
     "data": {
      "text/plain": [
       "{20, 50, 70, 90}"
      ]
     },
     "execution_count": 154,
     "metadata": {},
     "output_type": "execute_result"
    }
   ],
   "source": [
    "set1\n",
    "set2"
   ]
  },
  {
   "cell_type": "code",
   "execution_count": 155,
   "id": "3d90093a",
   "metadata": {},
   "outputs": [
    {
     "data": {
      "text/plain": [
       "{10, 20, 30, 40, 50}"
      ]
     },
     "execution_count": 155,
     "metadata": {},
     "output_type": "execute_result"
    }
   ],
   "source": [
    "set1"
   ]
  },
  {
   "cell_type": "code",
   "execution_count": 156,
   "id": "4374b79e",
   "metadata": {},
   "outputs": [
    {
     "data": {
      "text/plain": [
       "{20, 50, 70, 90}"
      ]
     },
     "execution_count": 156,
     "metadata": {},
     "output_type": "execute_result"
    }
   ],
   "source": [
    "set2"
   ]
  },
  {
   "cell_type": "code",
   "execution_count": 157,
   "id": "22b6f765",
   "metadata": {},
   "outputs": [
    {
     "data": {
      "text/plain": [
       "{20, 50}"
      ]
     },
     "execution_count": 157,
     "metadata": {},
     "output_type": "execute_result"
    }
   ],
   "source": [
    "set1.intersection(set2)"
   ]
  },
  {
   "cell_type": "code",
   "execution_count": 159,
   "id": "f737386a",
   "metadata": {},
   "outputs": [
    {
     "data": {
      "text/plain": [
       "{70, 90}"
      ]
     },
     "execution_count": 159,
     "metadata": {},
     "output_type": "execute_result"
    }
   ],
   "source": [
    "set2.difference(set1)"
   ]
  },
  {
   "cell_type": "code",
   "execution_count": 160,
   "id": "6d951e28",
   "metadata": {},
   "outputs": [
    {
     "data": {
      "text/plain": [
       "{10, 30, 40}"
      ]
     },
     "execution_count": 160,
     "metadata": {},
     "output_type": "execute_result"
    }
   ],
   "source": [
    "set1.difference(set2)"
   ]
  },
  {
   "cell_type": "code",
   "execution_count": 162,
   "id": "7687f829",
   "metadata": {},
   "outputs": [
    {
     "data": {
      "text/plain": [
       "{10, 20, 30, 40, 50, 70, 90}"
      ]
     },
     "execution_count": 162,
     "metadata": {},
     "output_type": "execute_result"
    }
   ],
   "source": [
    "set2.union(set1)"
   ]
  },
  {
   "cell_type": "code",
   "execution_count": 163,
   "id": "9d27305d",
   "metadata": {},
   "outputs": [
    {
     "data": {
      "text/plain": [
       "{10, 30, 40, 70, 90}"
      ]
     },
     "execution_count": 163,
     "metadata": {},
     "output_type": "execute_result"
    }
   ],
   "source": [
    "set1.symmetric_difference(set2)"
   ]
  },
  {
   "cell_type": "code",
   "execution_count": 165,
   "id": "4e6a2c53",
   "metadata": {},
   "outputs": [
    {
     "data": {
      "text/plain": [
       "False"
      ]
     },
     "execution_count": 165,
     "metadata": {},
     "output_type": "execute_result"
    }
   ],
   "source": [
    "set2.issubset(set1)"
   ]
  },
  {
   "cell_type": "code",
   "execution_count": 173,
   "id": "12a485a6",
   "metadata": {},
   "outputs": [
    {
     "name": "stdout",
     "output_type": "stream",
     "text": [
      "Leeftijd?3\n"
     ]
    }
   ],
   "source": [
    "lft = input(\"Leeftijd?\")\n",
    "            "
   ]
  },
  {
   "cell_type": "code",
   "execution_count": null,
   "id": "bfc8a0b0",
   "metadata": {},
   "outputs": [],
   "source": []
  },
  {
   "cell_type": "code",
   "execution_count": null,
   "id": "c0cf9828",
   "metadata": {},
   "outputs": [],
   "source": []
  }
 ],
 "metadata": {
  "kernelspec": {
   "display_name": "Python 3 (ipykernel)",
   "language": "python",
   "name": "python3"
  },
  "language_info": {
   "codemirror_mode": {
    "name": "ipython",
    "version": 3
   },
   "file_extension": ".py",
   "mimetype": "text/x-python",
   "name": "python",
   "nbconvert_exporter": "python",
   "pygments_lexer": "ipython3",
   "version": "3.10.1"
  }
 },
 "nbformat": 4,
 "nbformat_minor": 5
}
