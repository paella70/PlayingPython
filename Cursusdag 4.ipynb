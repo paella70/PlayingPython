{
 "cells": [
  {
   "cell_type": "code",
   "execution_count": 1,
   "id": "24970fe2",
   "metadata": {},
   "outputs": [],
   "source": [
    "import sys\n",
    "# werkt alleen nog niet...?!?\n",
    "\n",
    "def main():\n",
    "    first = int(sys.argv[1])\n",
    "    operator = sys.argv[2]\n",
    "    second = int(sys.argv[3])\n",
    "    print_result = calculate(first, operator, second)\n",
    "    \n",
    "def calculate(eerst, tweede, derde):\n",
    "    if tweede == \"+\":\n",
    "        return eerste + derde\n",
    "    if tweede == \"-\":\n",
    "        return eerste - derde\n",
    "    if tweede == \"/\":\n",
    "        return eerste / derde\n",
    "    if tweede == \"*\":\n",
    "        return eerste * derde"
   ]
  },
  {
   "cell_type": "code",
   "execution_count": 17,
   "id": "f4e69f67",
   "metadata": {},
   "outputs": [
    {
     "name": "stdout",
     "output_type": "stream",
     "text": [
      "Applications\n",
      "Applications (Parallels)\n",
      "Calibre Library\n",
      "Cursusdag 1.ipynb\n",
      "Cursusdag 2.ipynb\n",
      "Cursusdag 3.ipynb\n",
      "Cursusdag 4.ipynb\n",
      "Desktop\n",
      "Documents\n",
      "Downloads\n",
      "Library\n",
      "Movies\n",
      "Music\n",
      "OneDrive\n",
      "Parallels\n",
      "Pictures\n",
      "Public\n",
      "regexp.ipynb\n",
      "sales.csv\n",
      "\n"
     ]
    }
   ],
   "source": [
    "import subprocess\n",
    "c = subprocess.run([\"ls\", \"-l\"], stdout=subprocess.PIPE,\n",
    "                   text=True, shell=True)\n",
    "print (c.stdout)"
   ]
  },
  {
   "cell_type": "code",
   "execution_count": 18,
   "id": "a2799971",
   "metadata": {},
   "outputs": [
    {
     "name": "stdout",
     "output_type": "stream",
     "text": [
      "en0: flags=8863<UP,BROADCAST,SMART,RUNNING,SIMPLEX,MULTICAST> mtu 1500\n",
      "\toptions=6463<RXCSUM,TXCSUM,TSO4,TSO6,CHANNEL_IO,PARTIAL_CSUM,ZEROINVERT_CSUM>\n",
      "\tether f8:4d:89:69:83:09 \n",
      "\tinet6 fe80::14a4:9e8f:1b54:2d25%en0 prefixlen 64 secured scopeid 0xe \n",
      "\tinet6 2001:1c00:332:5900:cea:946e:7ea:2597 prefixlen 64 autoconf secured \n",
      "\tinet6 2001:1c00:332:5900:4006:9d9e:7a1e:fca9 prefixlen 64 deprecated autoconf temporary \n",
      "\tinet 192.168.178.59 netmask 0xffffff00 broadcast 192.168.178.255\n",
      "\tinet6 2001:1c00:332:5900:d06b:dde6:9433:6ba0 prefixlen 64 autoconf temporary \n",
      "\tnd6 options=201<PERFORMNUD,DAD>\n",
      "\tmedia: autoselect\n",
      "\tstatus: active\n",
      "\n"
     ]
    }
   ],
   "source": [
    "c = subprocess.run([\"ifconfig\", \"en0\"], stdout=subprocess.PIPE, text=True)\n",
    "print(c.stdout)"
   ]
  },
  {
   "cell_type": "code",
   "execution_count": 19,
   "id": "5fdd52cb",
   "metadata": {},
   "outputs": [
    {
     "name": "stdout",
     "output_type": "stream",
     "text": [
      "tcp4       0      0  192.168.178.59.54698   192.168.178.50.80      ESTABLISHED\n",
      "tcp4       0      0  192.168.178.59.54695   17.253.53.201.443      ESTABLISHED\n",
      "tcp4       0      0  192.168.178.59.54694   17.33.0.33.443         ESTABLISHED\n",
      "tcp4       0      0  192.168.178.59.54692   52.50.35.46.443        ESTABLISHED\n",
      "tcp4       0      0  127.0.0.1.54519        127.0.0.1.54590        ESTABLISHED\n",
      "tcp4       0      0  127.0.0.1.54590        127.0.0.1.54519        ESTABLISHED\n",
      "tcp4       0      0  192.168.178.59.54525   192.168.178.37.49173   ESTABLISHED\n",
      "tcp4       0      0  192.168.178.59.54525   192.168.178.11.49266   ESTABLISHED\n",
      "tcp4       0      0  192.168.178.59.54562   3.94.141.229.443       ESTABLISHED\n",
      "tcp4       0      0  192.168.178.59.54561   192.241.189.211.443    ESTABLISHED\n",
      "tcp4       0      0  127.0.0.1.49153        127.0.0.1.54560        ESTABLISHED\n",
      "tcp4       0      0  127.0.0.1.54560        127.0.0.1.49153        ESTABLISHED\n",
      "tcp4       0      0  192.168.178.59.54547   20.54.36.229.443       ESTABLISHED\n",
      "tcp4       0      0  192.168.178.59.54533   192.168.178.17.49205   ESTABLISHED\n",
      "tcp4       0      0  192.168.178.59.54511   54.93.254.235.443      ESTABLISHED\n",
      "tcp4       0      0  127.0.0.1.49153        127.0.0.1.54510        ESTABLISHED\n",
      "tcp4       0      0  127.0.0.1.54510        127.0.0.1.49153        ESTABLISHED\n",
      "tcp6       0      0  2001:1c00:332:59.54502 2a00:1450:4025:4.5228  ESTABLISHED\n",
      "tcp4       0      0  127.0.0.1.53373        127.0.0.1.54284        ESTABLISHED\n",
      "tcp4       0      0  127.0.0.1.54284        127.0.0.1.53373        ESTABLISHED\n",
      "tcp4       0      0  127.0.0.1.53375        127.0.0.1.54283        ESTABLISHED\n",
      "tcp4       0      0  127.0.0.1.54283        127.0.0.1.53375        ESTABLISHED\n",
      "tcp4       0      0  127.0.0.1.53371        127.0.0.1.54282        ESTABLISHED\n",
      "tcp4       0      0  127.0.0.1.54282        127.0.0.1.53371        ESTABLISHED\n",
      "tcp4       0      0  127.0.0.1.53372        127.0.0.1.54281        ESTABLISHED\n",
      "tcp4       0      0  127.0.0.1.54281        127.0.0.1.53372        ESTABLISHED\n",
      "tcp6       0      0  ::1.8888               ::1.54280              ESTABLISHED\n",
      "tcp6       0      0  ::1.54280              ::1.8888               ESTABLISHED\n",
      "tcp4       0      0  192.168.178.59.54007   20.54.36.229.443       ESTABLISHED\n",
      "tcp4       0      0  127.0.0.1.53372        127.0.0.1.53395        ESTABLISHED\n",
      "tcp4       0      0  127.0.0.1.53395        127.0.0.1.53372        ESTABLISHED\n",
      "tcp4       0      0  127.0.0.1.53375        127.0.0.1.53394        ESTABLISHED\n",
      "tcp4       0      0  127.0.0.1.53394        127.0.0.1.53375        ESTABLISHED\n",
      "tcp4       0      0  127.0.0.1.53371        127.0.0.1.53386        ESTABLISHED\n",
      "tcp4       0      0  127.0.0.1.53386        127.0.0.1.53371        ESTABLISHED\n",
      "tcp4       0      0  192.168.178.59.53171   20.54.37.73.443        ESTABLISHED\n",
      "tcp6       0      0  fe80::40f:f265:3.1025  fe80::d62c:bcf9:.1026  ESTABLISHED\n",
      "tcp6       0      0  fe80::40f:f265:3.1024  fe80::d62c:bcf9:.1024  ESTABLISHED\n",
      "tcp4       0      0  192.168.178.59.50409   17.57.146.40.5223      ESTABLISHED\n",
      "tcp4       0      0  127.0.0.1.59834        127.0.0.1.59835        ESTABLISHED\n",
      "tcp4       0      0  127.0.0.1.59835        127.0.0.1.59834        ESTABLISHED\n",
      "tcp4       0      0  192.168.178.59.51480   2.57.171.141.443       ESTABLISHED\n",
      "tcp4       0      0  10.76.0.6.51094        194.5.48.136.443       ESTABLISHED\n",
      "tcp6       0      0  fe80::2f52:b61d:.1027  fe80::f88e:e64f:.1025  ESTABLISHED\n",
      "tcp6       0      0  fe80::2f52:b61d:.1024  fe80::f88e:e64f:.1024  ESTABLISHED\n",
      "tcp6       0      0  fe80::9dd0:fd74:.1026  fe80::270e:7813:.1025  ESTABLISHED\n",
      "tcp6       0      0  fe80::9dd0:fd74:.1024  fe80::270e:7813:.1024  ESTABLISHED\n"
     ]
    }
   ],
   "source": [
    "c = subprocess.run([\"netstat\", \"-n\"], stdout=subprocess.PIPE, text=True)\n",
    "for line in c.stdout.splitlines():\n",
    "   if \"ESTABLISHED\" in line:\n",
    "       print(line) "
   ]
  },
  {
   "cell_type": "code",
   "execution_count": 20,
   "id": "b4007cb4",
   "metadata": {},
   "outputs": [
    {
     "data": {
      "text/plain": [
       "PosixPath('/Users/parreira')"
      ]
     },
     "execution_count": 20,
     "metadata": {},
     "output_type": "execute_result"
    }
   ],
   "source": [
    "from pathlib import Path\n",
    "Path.home()"
   ]
  },
  {
   "cell_type": "code",
   "execution_count": 21,
   "id": "a1efd7cc",
   "metadata": {},
   "outputs": [],
   "source": [
    "file = Path(\"Cursusdag 1.ipynb\")"
   ]
  },
  {
   "cell_type": "code",
   "execution_count": 22,
   "id": "79bfb79f",
   "metadata": {},
   "outputs": [
    {
     "data": {
      "text/plain": [
       "PosixPath('/Users/parreira/Cursusdag 1.ipynb')"
      ]
     },
     "execution_count": 22,
     "metadata": {},
     "output_type": "execute_result"
    }
   ],
   "source": [
    "file.exists()  # true/false\n",
    "file.name      # filename\n",
    "file.stem      # filename without extension\n",
    "file.suffix    # extension\n",
    "file.parent    # the parent directory \n",
    "file.resolve() # full path"
   ]
  },
  {
   "cell_type": "code",
   "execution_count": 23,
   "id": "84bc84be",
   "metadata": {},
   "outputs": [
    {
     "data": {
      "text/plain": [
       "True"
      ]
     },
     "execution_count": 23,
     "metadata": {},
     "output_type": "execute_result"
    }
   ],
   "source": [
    "file.exists()"
   ]
  },
  {
   "cell_type": "code",
   "execution_count": 25,
   "id": "3ffcbd0e",
   "metadata": {},
   "outputs": [
    {
     "data": {
      "text/plain": [
       "'Cursusdag 1.ipynb'"
      ]
     },
     "execution_count": 25,
     "metadata": {},
     "output_type": "execute_result"
    }
   ],
   "source": [
    "file.name"
   ]
  },
  {
   "cell_type": "code",
   "execution_count": 26,
   "id": "08a122ba",
   "metadata": {},
   "outputs": [
    {
     "data": {
      "text/plain": [
       "'Cursusdag 1'"
      ]
     },
     "execution_count": 26,
     "metadata": {},
     "output_type": "execute_result"
    }
   ],
   "source": [
    "file.stem"
   ]
  },
  {
   "cell_type": "code",
   "execution_count": 27,
   "id": "9fce5309",
   "metadata": {},
   "outputs": [
    {
     "data": {
      "text/plain": [
       "'.ipynb'"
      ]
     },
     "execution_count": 27,
     "metadata": {},
     "output_type": "execute_result"
    }
   ],
   "source": [
    "file.suffix"
   ]
  },
  {
   "cell_type": "code",
   "execution_count": 28,
   "id": "244bacc3",
   "metadata": {},
   "outputs": [
    {
     "data": {
      "text/plain": [
       "PosixPath('.')"
      ]
     },
     "execution_count": 28,
     "metadata": {},
     "output_type": "execute_result"
    }
   ],
   "source": [
    "file.parent"
   ]
  },
  {
   "cell_type": "code",
   "execution_count": 29,
   "id": "283feb7c",
   "metadata": {},
   "outputs": [
    {
     "data": {
      "text/plain": [
       "PosixPath('/Users/parreira/Cursusdag 1.ipynb')"
      ]
     },
     "execution_count": 29,
     "metadata": {},
     "output_type": "execute_result"
    }
   ],
   "source": [
    "file.resolve()"
   ]
  },
  {
   "cell_type": "code",
   "execution_count": 30,
   "id": "a6ed3e47",
   "metadata": {},
   "outputs": [],
   "source": [
    "# Create folder & files\n",
    "path = Path(\"exercise_pathlib\")\n",
    "path.mkdir(exist_ok=False)\n",
    "\n",
    "for i in range(1, 6):\n",
    "    path.joinpath(f\"File {i}.csv\").touch()\n"
   ]
  },
  {
   "cell_type": "code",
   "execution_count": 31,
   "id": "540de4fc",
   "metadata": {},
   "outputs": [
    {
     "data": {
      "text/plain": [
       "'Simple is better than complex'"
      ]
     },
     "execution_count": 31,
     "metadata": {},
     "output_type": "execute_result"
    }
   ],
   "source": [
    "file = Path(\"zen.txt\")\n",
    "\n",
    "file.write_text(\"Simple is better than complex\")\n",
    "\n",
    "file.read_text()"
   ]
  },
  {
   "cell_type": "code",
   "execution_count": 33,
   "id": "12e92892",
   "metadata": {},
   "outputs": [],
   "source": [
    "import glob\n",
    "c = glob.glob('exercise_pathlib/*.csv')"
   ]
  },
  {
   "cell_type": "code",
   "execution_count": 36,
   "id": "132bde94",
   "metadata": {},
   "outputs": [
    {
     "data": {
      "text/plain": [
       "list"
      ]
     },
     "execution_count": 36,
     "metadata": {},
     "output_type": "execute_result"
    }
   ],
   "source": [
    "type (c)"
   ]
  },
  {
   "cell_type": "code",
   "execution_count": 37,
   "id": "42025c69",
   "metadata": {},
   "outputs": [],
   "source": [
    "from datetime import date, datetime, timedelta"
   ]
  },
  {
   "cell_type": "code",
   "execution_count": 38,
   "id": "ef9ed530",
   "metadata": {},
   "outputs": [
    {
     "data": {
      "text/plain": [
       "datetime.datetime(2022, 1, 13, 11, 12, 56, 832654)"
      ]
     },
     "execution_count": 38,
     "metadata": {},
     "output_type": "execute_result"
    }
   ],
   "source": [
    "datetime.now()"
   ]
  },
  {
   "cell_type": "code",
   "execution_count": 40,
   "id": "5d5a13c2",
   "metadata": {},
   "outputs": [],
   "source": [
    "start_of_year = datetime(2022, 1, 1)"
   ]
  },
  {
   "cell_type": "raw",
   "id": "2bc2d6d4",
   "metadata": {},
   "source": [
    "start_of_year"
   ]
  },
  {
   "cell_type": "code",
   "execution_count": 41,
   "id": "adae99c1",
   "metadata": {},
   "outputs": [
    {
     "data": {
      "text/plain": [
       "datetime.datetime(2022, 1, 1, 0, 0)"
      ]
     },
     "execution_count": 41,
     "metadata": {},
     "output_type": "execute_result"
    }
   ],
   "source": [
    "start_of_year"
   ]
  },
  {
   "cell_type": "code",
   "execution_count": 88,
   "id": "d325ae21",
   "metadata": {},
   "outputs": [],
   "source": [
    "birthday = datetime(1967,12,9)"
   ]
  },
  {
   "cell_type": "code",
   "execution_count": 89,
   "id": "73528e51",
   "metadata": {},
   "outputs": [],
   "source": [
    "now = datetime.now()"
   ]
  },
  {
   "cell_type": "code",
   "execution_count": 90,
   "id": "5ab81d11",
   "metadata": {},
   "outputs": [],
   "source": [
    "delta = now - birthday"
   ]
  },
  {
   "cell_type": "code",
   "execution_count": 91,
   "id": "08c4f726",
   "metadata": {},
   "outputs": [
    {
     "name": "stdout",
     "output_type": "stream",
     "text": [
      "19759\n"
     ]
    }
   ],
   "source": [
    "print (delta.days)"
   ]
  },
  {
   "cell_type": "code",
   "execution_count": 62,
   "id": "b254663f",
   "metadata": {},
   "outputs": [
    {
     "data": {
      "text/plain": [
       "datetime.timedelta"
      ]
     },
     "execution_count": 62,
     "metadata": {},
     "output_type": "execute_result"
    }
   ],
   "source": [
    "type (delta)"
   ]
  },
  {
   "cell_type": "code",
   "execution_count": 63,
   "id": "5816e2e1",
   "metadata": {},
   "outputs": [],
   "source": [
    "end_of_year = date(2020,12,31)"
   ]
  },
  {
   "cell_type": "code",
   "execution_count": 64,
   "id": "e488fb13",
   "metadata": {},
   "outputs": [
    {
     "ename": "TypeError",
     "evalue": "descriptor 'date' for 'datetime.datetime' objects doesn't apply to a 'int' object",
     "output_type": "error",
     "traceback": [
      "\u001b[0;31m---------------------------------------------------------------------------\u001b[0m",
      "\u001b[0;31mTypeError\u001b[0m                                 Traceback (most recent call last)",
      "\u001b[0;32m/var/folders/gj/_n6hcyfs061cmyc4vcjd379m0000gn/T/ipykernel_964/3707080619.py\u001b[0m in \u001b[0;36m<module>\u001b[0;34m\u001b[0m\n\u001b[0;32m----> 1\u001b[0;31m \u001b[0mdatetime\u001b[0m\u001b[0;34m.\u001b[0m\u001b[0mdate\u001b[0m\u001b[0;34m(\u001b[0m\u001b[0;36m2020\u001b[0m\u001b[0;34m,\u001b[0m \u001b[0;36m12\u001b[0m\u001b[0;34m,\u001b[0m \u001b[0;36m31\u001b[0m\u001b[0;34m)\u001b[0m\u001b[0;34m\u001b[0m\u001b[0;34m\u001b[0m\u001b[0m\n\u001b[0m",
      "\u001b[0;31mTypeError\u001b[0m: descriptor 'date' for 'datetime.datetime' objects doesn't apply to a 'int' object"
     ]
    }
   ],
   "source": [
    "datetime.date(2020, 12, 31)"
   ]
  },
  {
   "cell_type": "code",
   "execution_count": 65,
   "id": "f6b3598e",
   "metadata": {},
   "outputs": [
    {
     "ename": "TypeError",
     "evalue": "descriptor 'date' for 'datetime.datetime' objects doesn't apply to a 'int' object",
     "output_type": "error",
     "traceback": [
      "\u001b[0;31m---------------------------------------------------------------------------\u001b[0m",
      "\u001b[0;31mTypeError\u001b[0m                                 Traceback (most recent call last)",
      "\u001b[0;32m/var/folders/gj/_n6hcyfs061cmyc4vcjd379m0000gn/T/ipykernel_964/1990549584.py\u001b[0m in \u001b[0;36m<module>\u001b[0;34m\u001b[0m\n\u001b[0;32m----> 1\u001b[0;31m \u001b[0mprint\u001b[0m \u001b[0;34m(\u001b[0m\u001b[0mdatetime\u001b[0m\u001b[0;34m.\u001b[0m\u001b[0mdate\u001b[0m\u001b[0;34m(\u001b[0m\u001b[0;36m2020\u001b[0m\u001b[0;34m,\u001b[0m \u001b[0;36m12\u001b[0m\u001b[0;34m,\u001b[0m \u001b[0;36m31\u001b[0m\u001b[0;34m)\u001b[0m\u001b[0;34m)\u001b[0m\u001b[0;34m\u001b[0m\u001b[0;34m\u001b[0m\u001b[0m\n\u001b[0m",
      "\u001b[0;31mTypeError\u001b[0m: descriptor 'date' for 'datetime.datetime' objects doesn't apply to a 'int' object"
     ]
    }
   ],
   "source": [
    "print (datetime.date(2020, 12, 31))"
   ]
  },
  {
   "cell_type": "code",
   "execution_count": 67,
   "id": "7b5a4107",
   "metadata": {},
   "outputs": [
    {
     "data": {
      "text/plain": [
       "datetime.date"
      ]
     },
     "execution_count": 67,
     "metadata": {},
     "output_type": "execute_result"
    }
   ],
   "source": [
    "type (end_of_year)\n"
   ]
  },
  {
   "cell_type": "code",
   "execution_count": 68,
   "id": "27f493bb",
   "metadata": {},
   "outputs": [
    {
     "name": "stdout",
     "output_type": "stream",
     "text": [
      "2020-12-31\n"
     ]
    }
   ],
   "source": [
    "print (end_of_year)\n"
   ]
  },
  {
   "cell_type": "code",
   "execution_count": 69,
   "id": "e70487b0",
   "metadata": {},
   "outputs": [
    {
     "data": {
      "text/plain": [
       "datetime.datetime(2022, 1, 1, 0, 0)"
      ]
     },
     "execution_count": 69,
     "metadata": {},
     "output_type": "execute_result"
    }
   ],
   "source": [
    "start_of_year"
   ]
  },
  {
   "cell_type": "code",
   "execution_count": 70,
   "id": "140fc509",
   "metadata": {},
   "outputs": [
    {
     "data": {
      "text/plain": [
       "-366"
      ]
     },
     "execution_count": 70,
     "metadata": {},
     "output_type": "execute_result"
    }
   ],
   "source": [
    "delta = end_of_year - start_of_year.date()\n",
    "delta.days"
   ]
  },
  {
   "cell_type": "code",
   "execution_count": 92,
   "id": "2b1574eb",
   "metadata": {},
   "outputs": [],
   "source": [
    "import bs4"
   ]
  },
  {
   "cell_type": "code",
   "execution_count": 101,
   "id": "09d972fc",
   "metadata": {},
   "outputs": [
    {
     "name": "stdout",
     "output_type": "stream",
     "text": [
      "<title>iRobot Roomba robotstofzuiger kopen? - Coolblue - Voor 23.59u, morgen in huis</title>\n",
      "iRobot Roomba robotstofzuiger kopen? - Coolblue - Voor 23.59u, morgen in huis\n"
     ]
    }
   ],
   "source": [
    "import requests\n",
    "from bs4 import BeautifulSoup\n",
    "\n",
    "url = \"https://www.coolblue.nl/robotstofzuigers/irobot\"\n",
    "page = requests.get(url)\n",
    "soup = BeautifulSoup(page.content)\n",
    "\n",
    "title = soup.title   \n",
    "title = soup.find(\"title\")         # using find()\n",
    "print(title)\n",
    "print(title.text.strip())          # print only the text, remove leading & trailing white spaces"
   ]
  },
  {
   "cell_type": "code",
   "execution_count": 94,
   "id": "ba013d98",
   "metadata": {},
   "outputs": [],
   "source": [
    "product  = soup.find(\"h1\")"
   ]
  },
  {
   "cell_type": "code",
   "execution_count": 97,
   "id": "d15ce4ed",
   "metadata": {},
   "outputs": [
    {
     "name": "stdout",
     "output_type": "stream",
     "text": [
      "The Bastard Compact 2020\n"
     ]
    }
   ],
   "source": [
    "print (product.text.strip())"
   ]
  },
  {
   "cell_type": "code",
   "execution_count": 102,
   "id": "914c7d39",
   "metadata": {},
   "outputs": [],
   "source": [
    "price = soup.find(\"span\", attrs={\"class\": \"sales-price\"})"
   ]
  },
  {
   "cell_type": "code",
   "execution_count": 103,
   "id": "1da03bfb",
   "metadata": {},
   "outputs": [
    {
     "name": "stdout",
     "output_type": "stream",
     "text": [
      "699,-\n"
     ]
    }
   ],
   "source": [
    "print (price.text.strip())"
   ]
  },
  {
   "cell_type": "code",
   "execution_count": 104,
   "id": "a100a310",
   "metadata": {},
   "outputs": [
    {
     "name": "stdout",
     "output_type": "stream",
     "text": [
      "hi there, everyone!\n",
      "hi there, everyone!\n"
     ]
    }
   ],
   "source": [
    "import tkinter as tk\n",
    "\n",
    "class Application(tk.Frame):\n",
    "    def __init__(self, master=None):\n",
    "        super().__init__(master)\n",
    "        self.master = master\n",
    "        self.pack()\n",
    "        self.create_widgets()\n",
    "\n",
    "    def create_widgets(self):\n",
    "        self.hi_there = tk.Button(self)\n",
    "        self.hi_there[\"text\"] = \"Hello World\\n(click me)\"\n",
    "        self.hi_there[\"command\"] = self.say_hi\n",
    "        self.hi_there.pack(side=\"top\")\n",
    "\n",
    "        self.quit = tk.Button(self, text=\"QUIT\", fg=\"red\",\n",
    "                              command=self.master.destroy)\n",
    "        self.quit.pack(side=\"bottom\")\n",
    "\n",
    "    def say_hi(self):\n",
    "        print(\"hi there, everyone!\")\n",
    "\n",
    "root = tk.Tk()\n",
    "app = Application(master=root)\n",
    "app.mainloop()"
   ]
  },
  {
   "cell_type": "code",
   "execution_count": 1,
   "id": "311180c5",
   "metadata": {},
   "outputs": [
    {
     "name": "stderr",
     "output_type": "stream",
     "text": [
      "2022-01-13 14:35:30,490 INFO     Starting the program\n",
      "2022-01-13 14:35:30,490 INFO     Generating token\n",
      "2022-01-13 14:35:30,491 DEBUG    Token: 5d8b6f9a6e836d56a3d32c21447e53074654d1eecb73a0ecbb0dc4a7bb5ed254\n",
      "2022-01-13 14:35:30,491 INFO     Emailing the token\n",
      "2022-01-13 14:35:30,491 INFO     Stopping the program\n"
     ]
    }
   ],
   "source": [
    "\"\"\"\n",
    "Exercise\n",
    "Add logging to the program below. The program\n",
    "uses the new `secrets` module to create a token:\n",
    "https://docs.python.org/3/library/secrets.html\n",
    "\n",
    "Implement info messages for every function and\n",
    "a debug message with the value of the token.\n",
    "For more information about logging:\n",
    "https://docs.python.org/3/library/logging.html\n",
    "\"\"\"\n",
    "\n",
    "import secrets\n",
    "import logging\n",
    "\n",
    "logging.basicConfig(\n",
    "    level=logging.DEBUG,\n",
    "    format=\"%(asctime)s %(levelname)-8s %(message)s\",\n",
    ")\n",
    "\n",
    "def main():\n",
    "    logging.info(\"Starting the program\")\n",
    "    \"\"\"Run program to email a secret token\"\"\"\n",
    "    token = generate_token()\n",
    "    email_token(token)\n",
    "    logging.info(\"Stopping the program\")\n",
    "\n",
    "\n",
    "def generate_token():\n",
    "    \"\"\"Return a token for password reset\"\"\"\n",
    "    logging.info(\"Generating token\")\n",
    "    token = secrets.token_hex()\n",
    "    logging.debug(f\"Token: {token}\")\n",
    "    return token\n",
    "\n",
    "\n",
    "def email_token(token):\n",
    "    \"\"\"Email the token\"\"\"\n",
    "    logging.info(\"Emailing the token\")\n",
    "    body = f\"The token to reset your password: {token}\"\n",
    "    pass\n",
    "\n",
    "\n",
    "if __name__ == \"__main__\":\n",
    "\n",
    "    main()"
   ]
  },
  {
   "cell_type": "code",
   "execution_count": 4,
   "id": "7de7a971",
   "metadata": {},
   "outputs": [
    {
     "ename": "NameError",
     "evalue": "name 'checkdmarc' is not defined",
     "output_type": "error",
     "traceback": [
      "\u001b[0;31m---------------------------------------------------------------------------\u001b[0m",
      "\u001b[0;31mNameError\u001b[0m                                 Traceback (most recent call last)",
      "\u001b[0;32m/var/folders/gj/_n6hcyfs061cmyc4vcjd379m0000gn/T/ipykernel_44073/3123045079.py\u001b[0m in \u001b[0;36m<module>\u001b[0;34m\u001b[0m\n\u001b[0;32m----> 1\u001b[0;31m \u001b[0mcheckdmarc\u001b[0m\u001b[0;34m.\u001b[0m\u001b[0mchecdomainsfbi\u001b[0m\u001b[0;34m.\u001b[0m\u001b[0mgov\u001b[0m\u001b[0;34m\u001b[0m\u001b[0;34m\u001b[0m\u001b[0m\n\u001b[0m",
      "\u001b[0;31mNameError\u001b[0m: name 'checkdmarc' is not defined"
     ]
    }
   ],
   "source": [
    "\n",
    "checkdmarc.checdomainsfbi.gov\n"
   ]
  },
  {
   "cell_type": "code",
   "execution_count": null,
   "id": "dc7bc134",
   "metadata": {},
   "outputs": [],
   "source": []
  }
 ],
 "metadata": {
  "kernelspec": {
   "display_name": "Python 3 (ipykernel)",
   "language": "python",
   "name": "python3"
  },
  "language_info": {
   "codemirror_mode": {
    "name": "ipython",
    "version": 3
   },
   "file_extension": ".py",
   "mimetype": "text/x-python",
   "name": "python",
   "nbconvert_exporter": "python",
   "pygments_lexer": "ipython3",
   "version": "3.10.1"
  }
 },
 "nbformat": 4,
 "nbformat_minor": 5
}
