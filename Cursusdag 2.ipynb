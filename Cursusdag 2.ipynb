{
 "cells": [
  {
   "cell_type": "code",
   "execution_count": 1,
   "id": "77dc56a9",
   "metadata": {},
   "outputs": [
    {
     "data": {
      "text/plain": [
       "2"
      ]
     },
     "execution_count": 1,
     "metadata": {},
     "output_type": "execute_result"
    }
   ],
   "source": [
    "8 % 3"
   ]
  },
  {
   "cell_type": "code",
   "execution_count": 2,
   "id": "ea02b55d",
   "metadata": {},
   "outputs": [],
   "source": [
    "x=7\n",
    "y=2"
   ]
  },
  {
   "cell_type": "code",
   "execution_count": 3,
   "id": "0eddaa43",
   "metadata": {},
   "outputs": [
    {
     "data": {
      "text/plain": [
       "1"
      ]
     },
     "execution_count": 3,
     "metadata": {},
     "output_type": "execute_result"
    }
   ],
   "source": [
    "x % y"
   ]
  },
  {
   "cell_type": "code",
   "execution_count": 4,
   "id": "10db55cf",
   "metadata": {},
   "outputs": [
    {
     "data": {
      "text/plain": [
       "3"
      ]
     },
     "execution_count": 4,
     "metadata": {},
     "output_type": "execute_result"
    }
   ],
   "source": [
    "x // y"
   ]
  },
  {
   "cell_type": "code",
   "execution_count": 5,
   "id": "68554632",
   "metadata": {},
   "outputs": [],
   "source": [
    "x = 20\n",
    "y = 30"
   ]
  },
  {
   "cell_type": "code",
   "execution_count": 6,
   "id": "fb67f5a1",
   "metadata": {},
   "outputs": [
    {
     "data": {
      "text/plain": [
       "False"
      ]
     },
     "execution_count": 6,
     "metadata": {},
     "output_type": "execute_result"
    }
   ],
   "source": [
    "x == y"
   ]
  },
  {
   "cell_type": "code",
   "execution_count": 7,
   "id": "a9c0989a",
   "metadata": {},
   "outputs": [
    {
     "data": {
      "text/plain": [
       "True"
      ]
     },
     "execution_count": 7,
     "metadata": {},
     "output_type": "execute_result"
    }
   ],
   "source": [
    "x != y"
   ]
  },
  {
   "cell_type": "code",
   "execution_count": 8,
   "id": "7cff08b1",
   "metadata": {},
   "outputs": [
    {
     "data": {
      "text/plain": [
       "True"
      ]
     },
     "execution_count": 8,
     "metadata": {},
     "output_type": "execute_result"
    }
   ],
   "source": [
    "x < y"
   ]
  },
  {
   "cell_type": "code",
   "execution_count": 9,
   "id": "157de70e",
   "metadata": {},
   "outputs": [
    {
     "data": {
      "text/plain": [
       "False"
      ]
     },
     "execution_count": 9,
     "metadata": {},
     "output_type": "execute_result"
    }
   ],
   "source": [
    "x > y"
   ]
  },
  {
   "cell_type": "code",
   "execution_count": 10,
   "id": "d1670db0",
   "metadata": {},
   "outputs": [
    {
     "data": {
      "text/plain": [
       "True"
      ]
     },
     "execution_count": 10,
     "metadata": {},
     "output_type": "execute_result"
    }
   ],
   "source": [
    "x <= y"
   ]
  },
  {
   "cell_type": "code",
   "execution_count": 11,
   "id": "750ab332",
   "metadata": {},
   "outputs": [
    {
     "data": {
      "text/plain": [
       "False"
      ]
     },
     "execution_count": 11,
     "metadata": {},
     "output_type": "execute_result"
    }
   ],
   "source": [
    "x >= y"
   ]
  },
  {
   "cell_type": "code",
   "execution_count": 13,
   "id": "f79e6d8e",
   "metadata": {},
   "outputs": [
    {
     "data": {
      "text/plain": [
       "True"
      ]
     },
     "execution_count": 13,
     "metadata": {},
     "output_type": "execute_result"
    }
   ],
   "source": [
    "not (x > 10 and y < 30)"
   ]
  },
  {
   "cell_type": "code",
   "execution_count": 14,
   "id": "badbcc90",
   "metadata": {},
   "outputs": [],
   "source": [
    "adres = \"janedoe@live.com\"\n"
   ]
  },
  {
   "cell_type": "code",
   "execution_count": 17,
   "id": "41b2af52",
   "metadata": {},
   "outputs": [
    {
     "data": {
      "text/plain": [
       "True"
      ]
     },
     "execution_count": 17,
     "metadata": {},
     "output_type": "execute_result"
    }
   ],
   "source": [
    "\"@\" in adres"
   ]
  },
  {
   "cell_type": "code",
   "execution_count": 18,
   "id": "6e85991f",
   "metadata": {},
   "outputs": [],
   "source": [
    "a = True and bool(0)\n",
    "b = False and []\n",
    "c = True or False\n",
    "d = bool({\"name\": \"John\"})\n",
    "e = \"django\" == \"django\" and \"flask\" != \"fastapi\"\n",
    "f = \"selenium\" == \"selenium\"\n",
    "g = True and bool(None)\n",
    "h = bool(-5) and 0 != 1\n",
    "i = False or 1 >= 1\n",
    "j = \"django\" != \"flask\"\n",
    "k = True or 1 != 5\n",
    "l = not (True or False)\n",
    "m = not (1 == 1 and 1 != 5)\n",
    "n = 1 == 1 and bool([0]) "
   ]
  },
  {
   "cell_type": "code",
   "execution_count": 19,
   "id": "89e48f26",
   "metadata": {},
   "outputs": [
    {
     "data": {
      "text/plain": [
       "False"
      ]
     },
     "execution_count": 19,
     "metadata": {},
     "output_type": "execute_result"
    }
   ],
   "source": [
    "a\n"
   ]
  },
  {
   "cell_type": "code",
   "execution_count": 20,
   "id": "f1fe987c",
   "metadata": {},
   "outputs": [
    {
     "data": {
      "text/plain": [
       "False"
      ]
     },
     "execution_count": 20,
     "metadata": {},
     "output_type": "execute_result"
    }
   ],
   "source": [
    "b\n"
   ]
  },
  {
   "cell_type": "code",
   "execution_count": 21,
   "id": "fc14eb7e",
   "metadata": {},
   "outputs": [
    {
     "data": {
      "text/plain": [
       "True"
      ]
     },
     "execution_count": 21,
     "metadata": {},
     "output_type": "execute_result"
    }
   ],
   "source": [
    "c"
   ]
  },
  {
   "cell_type": "code",
   "execution_count": 22,
   "id": "1eee6914",
   "metadata": {},
   "outputs": [
    {
     "data": {
      "text/plain": [
       "True"
      ]
     },
     "execution_count": 22,
     "metadata": {},
     "output_type": "execute_result"
    }
   ],
   "source": [
    "d"
   ]
  },
  {
   "cell_type": "code",
   "execution_count": 23,
   "id": "a0613fdc",
   "metadata": {},
   "outputs": [
    {
     "data": {
      "text/plain": [
       "True"
      ]
     },
     "execution_count": 23,
     "metadata": {},
     "output_type": "execute_result"
    }
   ],
   "source": [
    "e"
   ]
  },
  {
   "cell_type": "code",
   "execution_count": 24,
   "id": "ea78df58",
   "metadata": {},
   "outputs": [
    {
     "data": {
      "text/plain": [
       "True"
      ]
     },
     "execution_count": 24,
     "metadata": {},
     "output_type": "execute_result"
    }
   ],
   "source": [
    "f"
   ]
  },
  {
   "cell_type": "code",
   "execution_count": 25,
   "id": "d7e5703b",
   "metadata": {},
   "outputs": [
    {
     "data": {
      "text/plain": [
       "False"
      ]
     },
     "execution_count": 25,
     "metadata": {},
     "output_type": "execute_result"
    }
   ],
   "source": [
    "g"
   ]
  },
  {
   "cell_type": "code",
   "execution_count": 26,
   "id": "90ffbf52",
   "metadata": {},
   "outputs": [
    {
     "data": {
      "text/plain": [
       "True"
      ]
     },
     "execution_count": 26,
     "metadata": {},
     "output_type": "execute_result"
    }
   ],
   "source": [
    "h"
   ]
  },
  {
   "cell_type": "code",
   "execution_count": 27,
   "id": "2cf7b406",
   "metadata": {},
   "outputs": [
    {
     "data": {
      "text/plain": [
       "True"
      ]
     },
     "execution_count": 27,
     "metadata": {},
     "output_type": "execute_result"
    }
   ],
   "source": [
    "i"
   ]
  },
  {
   "cell_type": "code",
   "execution_count": 28,
   "id": "214cd6fc",
   "metadata": {},
   "outputs": [
    {
     "data": {
      "text/plain": [
       "True"
      ]
     },
     "execution_count": 28,
     "metadata": {},
     "output_type": "execute_result"
    }
   ],
   "source": [
    "j"
   ]
  },
  {
   "cell_type": "code",
   "execution_count": 29,
   "id": "3a1dbbb6",
   "metadata": {},
   "outputs": [
    {
     "data": {
      "text/plain": [
       "True"
      ]
     },
     "execution_count": 29,
     "metadata": {},
     "output_type": "execute_result"
    }
   ],
   "source": [
    "k"
   ]
  },
  {
   "cell_type": "code",
   "execution_count": 30,
   "id": "bbdefbfd",
   "metadata": {},
   "outputs": [
    {
     "data": {
      "text/plain": [
       "False"
      ]
     },
     "execution_count": 30,
     "metadata": {},
     "output_type": "execute_result"
    }
   ],
   "source": [
    "l"
   ]
  },
  {
   "cell_type": "code",
   "execution_count": 31,
   "id": "579f1201",
   "metadata": {},
   "outputs": [
    {
     "data": {
      "text/plain": [
       "False"
      ]
     },
     "execution_count": 31,
     "metadata": {},
     "output_type": "execute_result"
    }
   ],
   "source": [
    "m"
   ]
  },
  {
   "cell_type": "code",
   "execution_count": 32,
   "id": "6f3a3541",
   "metadata": {},
   "outputs": [
    {
     "data": {
      "text/plain": [
       "True"
      ]
     },
     "execution_count": 32,
     "metadata": {},
     "output_type": "execute_result"
    }
   ],
   "source": [
    "n\n"
   ]
  },
  {
   "cell_type": "code",
   "execution_count": 33,
   "id": "71515234",
   "metadata": {},
   "outputs": [
    {
     "data": {
      "text/plain": [
       "True"
      ]
     },
     "execution_count": 33,
     "metadata": {},
     "output_type": "execute_result"
    }
   ],
   "source": [
    "bool([0]) "
   ]
  },
  {
   "cell_type": "code",
   "execution_count": 34,
   "id": "3586519f",
   "metadata": {},
   "outputs": [
    {
     "data": {
      "text/plain": [
       "False"
      ]
     },
     "execution_count": 34,
     "metadata": {},
     "output_type": "execute_result"
    }
   ],
   "source": [
    "bool (0)"
   ]
  },
  {
   "cell_type": "code",
   "execution_count": 39,
   "id": "0bf015cf",
   "metadata": {},
   "outputs": [
    {
     "name": "stdout",
     "output_type": "stream",
     "text": [
      "X is larger than Y\n",
      "dsdsa\n"
     ]
    }
   ],
   "source": [
    "x = 5\n",
    "y = 4\n",
    "\n",
    "if x > y:\n",
    "    print('X is larger than Y')\n",
    "    print('dsdsa')\n",
    "else:\n",
    "    print('X is equal to or smaller than Y')"
   ]
  },
  {
   "cell_type": "code",
   "execution_count": 50,
   "id": "cd2441e9",
   "metadata": {},
   "outputs": [],
   "source": [
    "company_name = 'Heineken'\n",
    "revenues = 100\n",
    "costs = 90"
   ]
  },
  {
   "cell_type": "code",
   "execution_count": 51,
   "id": "e54b99a3",
   "metadata": {},
   "outputs": [
    {
     "name": "stdout",
     "output_type": "stream",
     "text": [
      "Heineken is profitable\n"
     ]
    }
   ],
   "source": [
    "if revenues > costs:\n",
    "    print (company_name + \" is profitable\")\n",
    "elif revenues == costs:\n",
    "    print (company_name + \" breaks even\")\n",
    "else:\n",
    "    print (company_name + \" makes a loss\")"
   ]
  },
  {
   "cell_type": "code",
   "execution_count": 3,
   "id": "573b675d",
   "metadata": {},
   "outputs": [
    {
     "name": "stdout",
     "output_type": "stream",
     "text": [
      "What was your (percentage) score? 90\n"
     ]
    }
   ],
   "source": [
    "score = int(input(\"What was your (percentage) score? \"))"
   ]
  },
  {
   "cell_type": "code",
   "execution_count": 4,
   "id": "ccda02df",
   "metadata": {},
   "outputs": [
    {
     "name": "stdout",
     "output_type": "stream",
     "text": [
      "Your score of 90 corresponds with the letter grade A\n"
     ]
    }
   ],
   "source": [
    "if score < 60:\n",
    "    print(\"Your score of \" + str(score) + \" corresponds with the letter grade F\")\n",
    "elif score <70:\n",
    "    print(\"Your score of \" + str(score) + \" corresponds with the letter grade D\")\n",
    "elif score <80:\n",
    "    print(\"Your score of \" + str(score) + \" corresponds with the letter grade C\")\n",
    "elif score <90:\n",
    "    print(\"Your score of \" + str(score) + \" corresponds with the letter grade B\")\n",
    "elif score <=100:\n",
    "    print(\"Your score of \" + str(score) + \" corresponds with the letter grade A\")\n",
    "    "
   ]
  },
  {
   "cell_type": "code",
   "execution_count": 68,
   "id": "7fbacd35",
   "metadata": {},
   "outputs": [],
   "source": [
    "programming_languages = ['Java', 'C', 'Python', 'PHP', 'JavaScript']\n"
   ]
  },
  {
   "cell_type": "code",
   "execution_count": 69,
   "id": "d10530a0",
   "metadata": {},
   "outputs": [
    {
     "name": "stdout",
     "output_type": "stream",
     "text": [
      "Java\n",
      "C\n",
      "Python\n",
      "PHP\n",
      "JavaScript\n"
     ]
    }
   ],
   "source": [
    "for n in programming_languages:\n",
    "    print (n)"
   ]
  },
  {
   "cell_type": "code",
   "execution_count": null,
   "id": "9c7e9d44",
   "metadata": {},
   "outputs": [],
   "source": [
    "x=1"
   ]
  },
  {
   "cell_type": "code",
   "execution_count": 73,
   "id": "c391f2c0",
   "metadata": {},
   "outputs": [
    {
     "name": "stdout",
     "output_type": "stream",
     "text": [
      "1\n",
      "2\n",
      "3\n",
      "4\n",
      "5\n",
      "Finished!\n"
     ]
    }
   ],
   "source": [
    "x = 1\n",
    "while x <= 5:\n",
    "    print (x)\n",
    "    x = x + 1\n",
    "print ('Finished!')"
   ]
  },
  {
   "cell_type": "code",
   "execution_count": 78,
   "id": "a3017657",
   "metadata": {},
   "outputs": [
    {
     "name": "stdout",
     "output_type": "stream",
     "text": [
      "Item # 1\n",
      "Item # 2\n",
      "Item # 3\n",
      "Item # 4\n",
      "Item # 5\n"
     ]
    }
   ],
   "source": [
    "for x in range(1,6):\n",
    "    print ('Item # ' +str(x))\n",
    "    "
   ]
  },
  {
   "cell_type": "code",
   "execution_count": 79,
   "id": "d2872b31",
   "metadata": {},
   "outputs": [],
   "source": [
    "programming_languages = ['Java', 'C', 'Python', 'PHP', 'JavaScript']\n"
   ]
  },
  {
   "cell_type": "code",
   "execution_count": 81,
   "id": "cc9cf510",
   "metadata": {},
   "outputs": [
    {
     "name": "stdout",
     "output_type": "stream",
     "text": [
      "1 Java\n",
      "2 C\n",
      "3 Python\n",
      "4 PHP\n",
      "5 JavaScript\n"
     ]
    }
   ],
   "source": [
    "for i,c in enumerate(programming_languages, start = 1):\n",
    "    print (i,c)"
   ]
  },
  {
   "cell_type": "raw",
   "id": "ced61936",
   "metadata": {},
   "source": [
    "\n"
   ]
  },
  {
   "cell_type": "code",
   "execution_count": 83,
   "id": "0e34a814",
   "metadata": {},
   "outputs": [
    {
     "name": "stdout",
     "output_type": "stream",
     "text": [
      "0\n",
      "2\n",
      "4\n",
      "6\n",
      "8\n"
     ]
    }
   ],
   "source": [
    "for x in range(0,10):\n",
    "    if x % 2 == 0:\n",
    "        print (x)\n"
   ]
  },
  {
   "cell_type": "code",
   "execution_count": 97,
   "id": "7ad2bd57",
   "metadata": {},
   "outputs": [
    {
     "name": "stdout",
     "output_type": "stream",
     "text": [
      "What is your guess? 11\n",
      "Too low, guess again\n",
      "What is your guess? 12\n",
      "Too low, guess again\n",
      "What is your guess? 16\n",
      "Too high, guess again\n",
      "What is your guess? 14\n",
      "Correct, you win!!\n"
     ]
    }
   ],
   "source": [
    "import random\n",
    "correct_number = random.randint(10, 30)\n",
    "\n",
    "while True:\n",
    "    guessed_number = int(input(\"What is your guess? \"))\n",
    "\n",
    "    if guessed_number == correct_number:\n",
    "        print(\"Correct, you win!!\")\n",
    "        break\n",
    "\n",
    "    elif guessed_number < correct_number:\n",
    "        print(\"Too low, guess again\")\n",
    "\n",
    "    elif guessed_number > correct_number:\n",
    "        print(\"Too high, guess again\")"
   ]
  },
  {
   "cell_type": "code",
   "execution_count": 100,
   "id": "85b36cae",
   "metadata": {},
   "outputs": [
    {
     "name": "stdout",
     "output_type": "stream",
     "text": [
      "Wat is je wachtwoord? dsdsa\n",
      "Try again!\n",
      "Wat is je wachtwoord? password\n",
      "Good guess!\n"
     ]
    }
   ],
   "source": [
    "correct_password = \"password\"\n",
    "x = 1\n",
    "while x <= 3:\n",
    "    guess = input(\"Wat is je wachtwoord? \")\n",
    "    if guess == correct_password:\n",
    "        print (\"Good guess!\")\n",
    "        break\n",
    "    else:\n",
    "        print(\"Try again!\")\n",
    "        x = x + 1\n",
    "    "
   ]
  },
  {
   "cell_type": "code",
   "execution_count": 101,
   "id": "d57774b9",
   "metadata": {},
   "outputs": [],
   "source": [
    "names = [\"johnson\", \"brewer\", \"smith\", \"rogers\", \"wilson\", \"jones\", \"amrstrong\", \"ray\", \"rich\"]"
   ]
  },
  {
   "cell_type": "code",
   "execution_count": 103,
   "id": "1bf84dba",
   "metadata": {},
   "outputs": [
    {
     "name": "stdout",
     "output_type": "stream",
     "text": [
      "['JOHNSON', 'BREWER', 'SMITH', 'ROGERS', 'WILSON', 'JONES', 'AMRSTRONG', 'RAY', 'RICH']\n"
     ]
    }
   ],
   "source": [
    "names_capitalized = [items.upper() for items in names]\n",
    "print (names_capitalized)\n"
   ]
  },
  {
   "cell_type": "code",
   "execution_count": 104,
   "id": "fb2625eb",
   "metadata": {},
   "outputs": [],
   "source": [
    "even_numbers = [x for x in range(51) if x % 2 ==0]"
   ]
  },
  {
   "cell_type": "code",
   "execution_count": 105,
   "id": "28aacb34",
   "metadata": {},
   "outputs": [
    {
     "name": "stdout",
     "output_type": "stream",
     "text": [
      "[0, 2, 4, 6, 8, 10, 12, 14, 16, 18, 20, 22, 24, 26, 28, 30, 32, 34, 36, 38, 40, 42, 44, 46, 48, 50]\n"
     ]
    }
   ],
   "source": [
    "print (even_numbers)"
   ]
  },
  {
   "cell_type": "code",
   "execution_count": 106,
   "id": "f13e43ef",
   "metadata": {},
   "outputs": [],
   "source": [
    "employees = {\"john\": 1234, \"claire\": 1235, \"danny\": 1236}\n"
   ]
  },
  {
   "cell_type": "code",
   "execution_count": 107,
   "id": "ab525277",
   "metadata": {},
   "outputs": [],
   "source": [
    "employees2 = {v: k for k, v in employees.items()}"
   ]
  },
  {
   "cell_type": "code",
   "execution_count": 108,
   "id": "4c51c1c0",
   "metadata": {},
   "outputs": [
    {
     "name": "stdout",
     "output_type": "stream",
     "text": [
      "{1234: 'john', 1235: 'claire', 1236: 'danny'}\n"
     ]
    }
   ],
   "source": [
    "print (employees2)"
   ]
  },
  {
   "cell_type": "code",
   "execution_count": 110,
   "id": "51cf7e65",
   "metadata": {},
   "outputs": [
    {
     "ename": "TypeError",
     "evalue": "cannot unpack non-iterable int object",
     "output_type": "error",
     "traceback": [
      "\u001b[0;31m---------------------------------------------------------------------------\u001b[0m",
      "\u001b[0;31mTypeError\u001b[0m                                 Traceback (most recent call last)",
      "\u001b[0;32m/var/folders/gj/_n6hcyfs061cmyc4vcjd379m0000gn/T/ipykernel_29956/1944770457.py\u001b[0m in \u001b[0;36m<module>\u001b[0;34m\u001b[0m\n\u001b[0;32m----> 1\u001b[0;31m \u001b[0memployees3\u001b[0m \u001b[0;34m=\u001b[0m \u001b[0;34m{\u001b[0m\u001b[0mvalue\u001b[0m\u001b[0;34m:\u001b[0m \u001b[0mkey\u001b[0m \u001b[0;32mfor\u001b[0m \u001b[0mkey\u001b[0m\u001b[0;34m,\u001b[0m \u001b[0mvalue\u001b[0m \u001b[0;32min\u001b[0m \u001b[0memployees2\u001b[0m\u001b[0;34m}\u001b[0m\u001b[0;34m\u001b[0m\u001b[0;34m\u001b[0m\u001b[0m\n\u001b[0m",
      "\u001b[0;32m/var/folders/gj/_n6hcyfs061cmyc4vcjd379m0000gn/T/ipykernel_29956/1944770457.py\u001b[0m in \u001b[0;36m<dictcomp>\u001b[0;34m(.0)\u001b[0m\n\u001b[0;32m----> 1\u001b[0;31m \u001b[0memployees3\u001b[0m \u001b[0;34m=\u001b[0m \u001b[0;34m{\u001b[0m\u001b[0mvalue\u001b[0m\u001b[0;34m:\u001b[0m \u001b[0mkey\u001b[0m \u001b[0;32mfor\u001b[0m \u001b[0mkey\u001b[0m\u001b[0;34m,\u001b[0m \u001b[0mvalue\u001b[0m \u001b[0;32min\u001b[0m \u001b[0memployees2\u001b[0m\u001b[0;34m}\u001b[0m\u001b[0;34m\u001b[0m\u001b[0;34m\u001b[0m\u001b[0m\n\u001b[0m",
      "\u001b[0;31mTypeError\u001b[0m: cannot unpack non-iterable int object"
     ]
    }
   ],
   "source": [
    "employees3 = {value: key for key, value in employees2}"
   ]
  },
  {
   "cell_type": "code",
   "execution_count": 111,
   "id": "bbd83bfe",
   "metadata": {},
   "outputs": [],
   "source": [
    "def triple(x):\n",
    "    new_value = x * 3\n",
    "    return new_value"
   ]
  },
  {
   "cell_type": "code",
   "execution_count": 112,
   "id": "b268826a",
   "metadata": {},
   "outputs": [
    {
     "data": {
      "text/plain": [
       "24"
      ]
     },
     "execution_count": 112,
     "metadata": {},
     "output_type": "execute_result"
    }
   ],
   "source": [
    "triple(8\n",
    "      )"
   ]
  },
  {
   "cell_type": "code",
   "execution_count": 120,
   "id": "6cf541a7",
   "metadata": {},
   "outputs": [],
   "source": [
    "def quadruple(x):\n",
    "    new_value = x * 4\n",
    "    return new_value"
   ]
  },
  {
   "cell_type": "code",
   "execution_count": 116,
   "id": "2670defb",
   "metadata": {},
   "outputs": [
    {
     "data": {
      "text/plain": [
       "36"
      ]
     },
     "execution_count": 116,
     "metadata": {},
     "output_type": "execute_result"
    }
   ],
   "source": [
    "quadruple(9)"
   ]
  },
  {
   "cell_type": "code",
   "execution_count": 122,
   "id": "f61fc554",
   "metadata": {},
   "outputs": [
    {
     "name": "stdout",
     "output_type": "stream",
     "text": [
      "40\n",
      "200\n",
      "300\n"
     ]
    }
   ],
   "source": [
    "numbers = [10, 50, 75]\n",
    "for x in numbers:\n",
    "    result = quadruple(x)\n",
    "    print (result)"
   ]
  },
  {
   "cell_type": "code",
   "execution_count": 3,
   "id": "066b531a",
   "metadata": {},
   "outputs": [],
   "source": [
    "def fahr_to_celcius(x):\n",
    "    output = 5 * (x - 32) / 9\n",
    "    return output"
   ]
  },
  {
   "cell_type": "code",
   "execution_count": 4,
   "id": "8b109861",
   "metadata": {},
   "outputs": [
    {
     "name": "stdout",
     "output_type": "stream",
     "text": [
      "37.77777777777778\n"
     ]
    }
   ],
   "source": [
    "print (fahr_to_celcius(100))"
   ]
  },
  {
   "cell_type": "code",
   "execution_count": 1,
   "id": "8d88cfda",
   "metadata": {},
   "outputs": [],
   "source": [
    "def div7(x):\n",
    "    result = x % 7\n",
    "    if result == 0:\n",
    "        return True\n",
    "    else:\n",
    "        return False"
   ]
  },
  {
   "cell_type": "code",
   "execution_count": 2,
   "id": "3ea64566",
   "metadata": {},
   "outputs": [
    {
     "data": {
      "text/plain": [
       "True"
      ]
     },
     "execution_count": 2,
     "metadata": {},
     "output_type": "execute_result"
    }
   ],
   "source": [
    "div7(49)"
   ]
  },
  {
   "cell_type": "code",
   "execution_count": 134,
   "id": "a25ca9b4",
   "metadata": {},
   "outputs": [],
   "source": [
    "for x in range(10):\n",
    "    pass\n"
   ]
  },
  {
   "cell_type": "code",
   "execution_count": 135,
   "id": "bd5df941",
   "metadata": {},
   "outputs": [],
   "source": [
    "def menu(starter, main, dessert):\n",
    "     print(f\"Starter:  {starter}\")\n",
    "     print(f\"Main:     {main}\")\n",
    "     print(f\"Dessert:  {dessert}\")"
   ]
  },
  {
   "cell_type": "code",
   "execution_count": 136,
   "id": "34f6611b",
   "metadata": {},
   "outputs": [
    {
     "name": "stdout",
     "output_type": "stream",
     "text": [
      "Starter:  soup\n",
      "Main:     steak\n",
      "Dessert:  ice cream\n"
     ]
    }
   ],
   "source": [
    "menu(\"soup\", \"steak\", \"ice cream\")"
   ]
  },
  {
   "cell_type": "code",
   "execution_count": 137,
   "id": "c78361c7",
   "metadata": {},
   "outputs": [
    {
     "name": "stdout",
     "output_type": "stream",
     "text": [
      "Starter:  soup\n",
      "Main:     steak\n",
      "Dessert:  ice cream\n"
     ]
    }
   ],
   "source": [
    "menu(main=\"steak\", dessert=\"ice cream\", starter=\"soup\")"
   ]
  },
  {
   "cell_type": "code",
   "execution_count": 139,
   "id": "44816173",
   "metadata": {},
   "outputs": [
    {
     "name": "stdout",
     "output_type": "stream",
     "text": [
      "Starter:  soup\n",
      "Main:     steak\n",
      "Dessert:  ice cream\n"
     ]
    }
   ],
   "source": [
    "menu(dessert=\"ice cream\", main=\"steak\", starter=\"soup\")"
   ]
  },
  {
   "cell_type": "code",
   "execution_count": 141,
   "id": "2e4377ef",
   "metadata": {},
   "outputs": [
    {
     "name": "stdout",
     "output_type": "stream",
     "text": [
      "range(0, 10)\n"
     ]
    }
   ],
   "source": [
    "print(range(10))"
   ]
  },
  {
   "cell_type": "code",
   "execution_count": 142,
   "id": "d53b8646",
   "metadata": {},
   "outputs": [],
   "source": [
    "a = range(10)"
   ]
  },
  {
   "cell_type": "code",
   "execution_count": 143,
   "id": "0d2d09d6",
   "metadata": {},
   "outputs": [
    {
     "data": {
      "text/plain": [
       "range(0, 10)"
      ]
     },
     "execution_count": 143,
     "metadata": {},
     "output_type": "execute_result"
    }
   ],
   "source": [
    "a\n"
   ]
  },
  {
   "cell_type": "code",
   "execution_count": 148,
   "id": "d5d0496e",
   "metadata": {},
   "outputs": [],
   "source": [
    "def mult(x, y=1):\n",
    "    return x * y\n",
    "    "
   ]
  },
  {
   "cell_type": "code",
   "execution_count": 149,
   "id": "955d44c2",
   "metadata": {},
   "outputs": [
    {
     "data": {
      "text/plain": [
       "4"
      ]
     },
     "execution_count": 149,
     "metadata": {},
     "output_type": "execute_result"
    }
   ],
   "source": [
    "mult(4)"
   ]
  },
  {
   "cell_type": "code",
   "execution_count": 150,
   "id": "5378e278",
   "metadata": {},
   "outputs": [],
   "source": [
    "import math"
   ]
  },
  {
   "cell_type": "code",
   "execution_count": 151,
   "id": "9762e1f7",
   "metadata": {},
   "outputs": [
    {
     "name": "stdout",
     "output_type": "stream",
     "text": [
      "Help on module math:\n",
      "\n",
      "NAME\n",
      "    math\n",
      "\n",
      "MODULE REFERENCE\n",
      "    https://docs.python.org/3.10/library/math.html\n",
      "    \n",
      "    The following documentation is automatically generated from the Python\n",
      "    source files.  It may be incomplete, incorrect or include features that\n",
      "    are considered implementation detail and may vary between Python\n",
      "    implementations.  When in doubt, consult the module reference at the\n",
      "    location listed above.\n",
      "\n",
      "DESCRIPTION\n",
      "    This module provides access to the mathematical functions\n",
      "    defined by the C standard.\n",
      "\n",
      "FUNCTIONS\n",
      "    acos(x, /)\n",
      "        Return the arc cosine (measured in radians) of x.\n",
      "        \n",
      "        The result is between 0 and pi.\n",
      "    \n",
      "    acosh(x, /)\n",
      "        Return the inverse hyperbolic cosine of x.\n",
      "    \n",
      "    asin(x, /)\n",
      "        Return the arc sine (measured in radians) of x.\n",
      "        \n",
      "        The result is between -pi/2 and pi/2.\n",
      "    \n",
      "    asinh(x, /)\n",
      "        Return the inverse hyperbolic sine of x.\n",
      "    \n",
      "    atan(x, /)\n",
      "        Return the arc tangent (measured in radians) of x.\n",
      "        \n",
      "        The result is between -pi/2 and pi/2.\n",
      "    \n",
      "    atan2(y, x, /)\n",
      "        Return the arc tangent (measured in radians) of y/x.\n",
      "        \n",
      "        Unlike atan(y/x), the signs of both x and y are considered.\n",
      "    \n",
      "    atanh(x, /)\n",
      "        Return the inverse hyperbolic tangent of x.\n",
      "    \n",
      "    ceil(x, /)\n",
      "        Return the ceiling of x as an Integral.\n",
      "        \n",
      "        This is the smallest integer >= x.\n",
      "    \n",
      "    comb(n, k, /)\n",
      "        Number of ways to choose k items from n items without repetition and without order.\n",
      "        \n",
      "        Evaluates to n! / (k! * (n - k)!) when k <= n and evaluates\n",
      "        to zero when k > n.\n",
      "        \n",
      "        Also called the binomial coefficient because it is equivalent\n",
      "        to the coefficient of k-th term in polynomial expansion of the\n",
      "        expression (1 + x)**n.\n",
      "        \n",
      "        Raises TypeError if either of the arguments are not integers.\n",
      "        Raises ValueError if either of the arguments are negative.\n",
      "    \n",
      "    copysign(x, y, /)\n",
      "        Return a float with the magnitude (absolute value) of x but the sign of y.\n",
      "        \n",
      "        On platforms that support signed zeros, copysign(1.0, -0.0)\n",
      "        returns -1.0.\n",
      "    \n",
      "    cos(x, /)\n",
      "        Return the cosine of x (measured in radians).\n",
      "    \n",
      "    cosh(x, /)\n",
      "        Return the hyperbolic cosine of x.\n",
      "    \n",
      "    degrees(x, /)\n",
      "        Convert angle x from radians to degrees.\n",
      "    \n",
      "    dist(p, q, /)\n",
      "        Return the Euclidean distance between two points p and q.\n",
      "        \n",
      "        The points should be specified as sequences (or iterables) of\n",
      "        coordinates.  Both inputs must have the same dimension.\n",
      "        \n",
      "        Roughly equivalent to:\n",
      "            sqrt(sum((px - qx) ** 2.0 for px, qx in zip(p, q)))\n",
      "    \n",
      "    erf(x, /)\n",
      "        Error function at x.\n",
      "    \n",
      "    erfc(x, /)\n",
      "        Complementary error function at x.\n",
      "    \n",
      "    exp(x, /)\n",
      "        Return e raised to the power of x.\n",
      "    \n",
      "    expm1(x, /)\n",
      "        Return exp(x)-1.\n",
      "        \n",
      "        This function avoids the loss of precision involved in the direct evaluation of exp(x)-1 for small x.\n",
      "    \n",
      "    fabs(x, /)\n",
      "        Return the absolute value of the float x.\n",
      "    \n",
      "    factorial(x, /)\n",
      "        Find x!.\n",
      "        \n",
      "        Raise a ValueError if x is negative or non-integral.\n",
      "    \n",
      "    floor(x, /)\n",
      "        Return the floor of x as an Integral.\n",
      "        \n",
      "        This is the largest integer <= x.\n",
      "    \n",
      "    fmod(x, y, /)\n",
      "        Return fmod(x, y), according to platform C.\n",
      "        \n",
      "        x % y may differ.\n",
      "    \n",
      "    frexp(x, /)\n",
      "        Return the mantissa and exponent of x, as pair (m, e).\n",
      "        \n",
      "        m is a float and e is an int, such that x = m * 2.**e.\n",
      "        If x is 0, m and e are both 0.  Else 0.5 <= abs(m) < 1.0.\n",
      "    \n",
      "    fsum(seq, /)\n",
      "        Return an accurate floating point sum of values in the iterable seq.\n",
      "        \n",
      "        Assumes IEEE-754 floating point arithmetic.\n",
      "    \n",
      "    gamma(x, /)\n",
      "        Gamma function at x.\n",
      "    \n",
      "    gcd(*integers)\n",
      "        Greatest Common Divisor.\n",
      "    \n",
      "    hypot(...)\n",
      "        hypot(*coordinates) -> value\n",
      "        \n",
      "        Multidimensional Euclidean distance from the origin to a point.\n",
      "        \n",
      "        Roughly equivalent to:\n",
      "            sqrt(sum(x**2 for x in coordinates))\n",
      "        \n",
      "        For a two dimensional point (x, y), gives the hypotenuse\n",
      "        using the Pythagorean theorem:  sqrt(x*x + y*y).\n",
      "        \n",
      "        For example, the hypotenuse of a 3/4/5 right triangle is:\n",
      "        \n",
      "            >>> hypot(3.0, 4.0)\n",
      "            5.0\n",
      "    \n",
      "    isclose(a, b, *, rel_tol=1e-09, abs_tol=0.0)\n",
      "        Determine whether two floating point numbers are close in value.\n",
      "        \n",
      "          rel_tol\n",
      "            maximum difference for being considered \"close\", relative to the\n",
      "            magnitude of the input values\n",
      "          abs_tol\n",
      "            maximum difference for being considered \"close\", regardless of the\n",
      "            magnitude of the input values\n",
      "        \n",
      "        Return True if a is close in value to b, and False otherwise.\n",
      "        \n",
      "        For the values to be considered close, the difference between them\n",
      "        must be smaller than at least one of the tolerances.\n",
      "        \n",
      "        -inf, inf and NaN behave similarly to the IEEE 754 Standard.  That\n",
      "        is, NaN is not close to anything, even itself.  inf and -inf are\n",
      "        only close to themselves.\n",
      "    \n",
      "    isfinite(x, /)\n",
      "        Return True if x is neither an infinity nor a NaN, and False otherwise.\n",
      "    \n",
      "    isinf(x, /)\n",
      "        Return True if x is a positive or negative infinity, and False otherwise.\n",
      "    \n",
      "    isnan(x, /)\n",
      "        Return True if x is a NaN (not a number), and False otherwise.\n",
      "    \n",
      "    isqrt(n, /)\n",
      "        Return the integer part of the square root of the input.\n",
      "    \n",
      "    lcm(*integers)\n",
      "        Least Common Multiple.\n",
      "    \n",
      "    ldexp(x, i, /)\n",
      "        Return x * (2**i).\n",
      "        \n",
      "        This is essentially the inverse of frexp().\n",
      "    \n",
      "    lgamma(x, /)\n",
      "        Natural logarithm of absolute value of Gamma function at x.\n",
      "    \n",
      "    log(...)\n",
      "        log(x, [base=math.e])\n",
      "        Return the logarithm of x to the given base.\n",
      "        \n",
      "        If the base not specified, returns the natural logarithm (base e) of x.\n",
      "    \n",
      "    log10(x, /)\n",
      "        Return the base 10 logarithm of x.\n",
      "    \n",
      "    log1p(x, /)\n",
      "        Return the natural logarithm of 1+x (base e).\n",
      "        \n",
      "        The result is computed in a way which is accurate for x near zero.\n",
      "    \n",
      "    log2(x, /)\n",
      "        Return the base 2 logarithm of x.\n",
      "    \n",
      "    modf(x, /)\n",
      "        Return the fractional and integer parts of x.\n",
      "        \n",
      "        Both results carry the sign of x and are floats.\n",
      "    \n",
      "    nextafter(x, y, /)\n",
      "        Return the next floating-point value after x towards y.\n",
      "    \n",
      "    perm(n, k=None, /)\n",
      "        Number of ways to choose k items from n items without repetition and with order.\n",
      "        \n",
      "        Evaluates to n! / (n - k)! when k <= n and evaluates\n",
      "        to zero when k > n.\n",
      "        \n",
      "        If k is not specified or is None, then k defaults to n\n",
      "        and the function returns n!.\n",
      "        \n",
      "        Raises TypeError if either of the arguments are not integers.\n",
      "        Raises ValueError if either of the arguments are negative.\n",
      "    \n",
      "    pow(x, y, /)\n",
      "        Return x**y (x to the power of y).\n",
      "    \n",
      "    prod(iterable, /, *, start=1)\n",
      "        Calculate the product of all the elements in the input iterable.\n",
      "        \n",
      "        The default start value for the product is 1.\n",
      "        \n",
      "        When the iterable is empty, return the start value.  This function is\n",
      "        intended specifically for use with numeric values and may reject\n",
      "        non-numeric types.\n",
      "    \n",
      "    radians(x, /)\n",
      "        Convert angle x from degrees to radians.\n",
      "    \n",
      "    remainder(x, y, /)\n",
      "        Difference between x and the closest integer multiple of y.\n",
      "        \n",
      "        Return x - n*y where n*y is the closest integer multiple of y.\n",
      "        In the case where x is exactly halfway between two multiples of\n",
      "        y, the nearest even value of n is used. The result is always exact.\n",
      "    \n",
      "    sin(x, /)\n",
      "        Return the sine of x (measured in radians).\n",
      "    \n",
      "    sinh(x, /)\n",
      "        Return the hyperbolic sine of x.\n",
      "    \n",
      "    sqrt(x, /)\n",
      "        Return the square root of x.\n",
      "    \n",
      "    tan(x, /)\n",
      "        Return the tangent of x (measured in radians).\n",
      "    \n",
      "    tanh(x, /)\n",
      "        Return the hyperbolic tangent of x.\n",
      "    \n",
      "    trunc(x, /)\n",
      "        Truncates the Real x to the nearest Integral toward 0.\n",
      "        \n",
      "        Uses the __trunc__ magic method.\n",
      "    \n",
      "    ulp(x, /)\n",
      "        Return the value of the least significant bit of the float x.\n",
      "\n",
      "DATA\n",
      "    e = 2.718281828459045\n",
      "    inf = inf\n",
      "    nan = nan\n",
      "    pi = 3.141592653589793\n",
      "    tau = 6.283185307179586\n",
      "\n",
      "FILE\n",
      "    /Library/Frameworks/Python.framework/Versions/3.10/lib/python3.10/lib-dynload/math.cpython-310-darwin.so\n",
      "\n",
      "\n"
     ]
    }
   ],
   "source": [
    "help(math)"
   ]
  },
  {
   "cell_type": "code",
   "execution_count": 152,
   "id": "fbe37b61",
   "metadata": {},
   "outputs": [
    {
     "data": {
      "text/plain": [
       "['__doc__',\n",
       " '__file__',\n",
       " '__loader__',\n",
       " '__name__',\n",
       " '__package__',\n",
       " '__spec__',\n",
       " 'acos',\n",
       " 'acosh',\n",
       " 'asin',\n",
       " 'asinh',\n",
       " 'atan',\n",
       " 'atan2',\n",
       " 'atanh',\n",
       " 'ceil',\n",
       " 'comb',\n",
       " 'copysign',\n",
       " 'cos',\n",
       " 'cosh',\n",
       " 'degrees',\n",
       " 'dist',\n",
       " 'e',\n",
       " 'erf',\n",
       " 'erfc',\n",
       " 'exp',\n",
       " 'expm1',\n",
       " 'fabs',\n",
       " 'factorial',\n",
       " 'floor',\n",
       " 'fmod',\n",
       " 'frexp',\n",
       " 'fsum',\n",
       " 'gamma',\n",
       " 'gcd',\n",
       " 'hypot',\n",
       " 'inf',\n",
       " 'isclose',\n",
       " 'isfinite',\n",
       " 'isinf',\n",
       " 'isnan',\n",
       " 'isqrt',\n",
       " 'lcm',\n",
       " 'ldexp',\n",
       " 'lgamma',\n",
       " 'log',\n",
       " 'log10',\n",
       " 'log1p',\n",
       " 'log2',\n",
       " 'modf',\n",
       " 'nan',\n",
       " 'nextafter',\n",
       " 'perm',\n",
       " 'pi',\n",
       " 'pow',\n",
       " 'prod',\n",
       " 'radians',\n",
       " 'remainder',\n",
       " 'sin',\n",
       " 'sinh',\n",
       " 'sqrt',\n",
       " 'tan',\n",
       " 'tanh',\n",
       " 'tau',\n",
       " 'trunc',\n",
       " 'ulp']"
      ]
     },
     "execution_count": 152,
     "metadata": {},
     "output_type": "execute_result"
    }
   ],
   "source": [
    "dir(math)"
   ]
  },
  {
   "cell_type": "code",
   "execution_count": 153,
   "id": "5026c9ae",
   "metadata": {},
   "outputs": [
    {
     "data": {
      "text/plain": [
       "144.9137674618944"
      ]
     },
     "execution_count": 153,
     "metadata": {},
     "output_type": "execute_result"
    }
   ],
   "source": [
    "math.sqrt(21000)"
   ]
  },
  {
   "cell_type": "code",
   "execution_count": 154,
   "id": "9b1bb6a5",
   "metadata": {},
   "outputs": [
    {
     "data": {
      "text/plain": [
       "3.141592653589793"
      ]
     },
     "execution_count": 154,
     "metadata": {},
     "output_type": "execute_result"
    }
   ],
   "source": [
    "math.pi"
   ]
  },
  {
   "cell_type": "code",
   "execution_count": 156,
   "id": "635f7ba6",
   "metadata": {},
   "outputs": [
    {
     "name": "stdout",
     "output_type": "stream",
     "text": [
      "Help on module statistics:\n",
      "\n",
      "NAME\n",
      "    statistics - Basic statistics module.\n",
      "\n",
      "MODULE REFERENCE\n",
      "    https://docs.python.org/3.10/library/statistics.html\n",
      "    \n",
      "    The following documentation is automatically generated from the Python\n",
      "    source files.  It may be incomplete, incorrect or include features that\n",
      "    are considered implementation detail and may vary between Python\n",
      "    implementations.  When in doubt, consult the module reference at the\n",
      "    location listed above.\n",
      "\n",
      "DESCRIPTION\n",
      "    This module provides functions for calculating statistics of data, including\n",
      "    averages, variance, and standard deviation.\n",
      "    \n",
      "    Calculating averages\n",
      "    --------------------\n",
      "    \n",
      "    ==================  ==================================================\n",
      "    Function            Description\n",
      "    ==================  ==================================================\n",
      "    mean                Arithmetic mean (average) of data.\n",
      "    fmean               Fast, floating point arithmetic mean.\n",
      "    geometric_mean      Geometric mean of data.\n",
      "    harmonic_mean       Harmonic mean of data.\n",
      "    median              Median (middle value) of data.\n",
      "    median_low          Low median of data.\n",
      "    median_high         High median of data.\n",
      "    median_grouped      Median, or 50th percentile, of grouped data.\n",
      "    mode                Mode (most common value) of data.\n",
      "    multimode           List of modes (most common values of data).\n",
      "    quantiles           Divide data into intervals with equal probability.\n",
      "    ==================  ==================================================\n",
      "    \n",
      "    Calculate the arithmetic mean (\"the average\") of data:\n",
      "    \n",
      "    >>> mean([-1.0, 2.5, 3.25, 5.75])\n",
      "    2.625\n",
      "    \n",
      "    \n",
      "    Calculate the standard median of discrete data:\n",
      "    \n",
      "    >>> median([2, 3, 4, 5])\n",
      "    3.5\n",
      "    \n",
      "    \n",
      "    Calculate the median, or 50th percentile, of data grouped into class intervals\n",
      "    centred on the data values provided. E.g. if your data points are rounded to\n",
      "    the nearest whole number:\n",
      "    \n",
      "    >>> median_grouped([2, 2, 3, 3, 3, 4])  #doctest: +ELLIPSIS\n",
      "    2.8333333333...\n",
      "    \n",
      "    This should be interpreted in this way: you have two data points in the class\n",
      "    interval 1.5-2.5, three data points in the class interval 2.5-3.5, and one in\n",
      "    the class interval 3.5-4.5. The median of these data points is 2.8333...\n",
      "    \n",
      "    \n",
      "    Calculating variability or spread\n",
      "    ---------------------------------\n",
      "    \n",
      "    ==================  =============================================\n",
      "    Function            Description\n",
      "    ==================  =============================================\n",
      "    pvariance           Population variance of data.\n",
      "    variance            Sample variance of data.\n",
      "    pstdev              Population standard deviation of data.\n",
      "    stdev               Sample standard deviation of data.\n",
      "    ==================  =============================================\n",
      "    \n",
      "    Calculate the standard deviation of sample data:\n",
      "    \n",
      "    >>> stdev([2.5, 3.25, 5.5, 11.25, 11.75])  #doctest: +ELLIPSIS\n",
      "    4.38961843444...\n",
      "    \n",
      "    If you have previously calculated the mean, you can pass it as the optional\n",
      "    second argument to the four \"spread\" functions to avoid recalculating it:\n",
      "    \n",
      "    >>> data = [1, 2, 2, 4, 4, 4, 5, 6]\n",
      "    >>> mu = mean(data)\n",
      "    >>> pvariance(data, mu)\n",
      "    2.5\n",
      "    \n",
      "    \n",
      "    Statistics for relations between two inputs\n",
      "    -------------------------------------------\n",
      "    \n",
      "    ==================  ====================================================\n",
      "    Function            Description\n",
      "    ==================  ====================================================\n",
      "    covariance          Sample covariance for two variables.\n",
      "    correlation         Pearson's correlation coefficient for two variables.\n",
      "    linear_regression   Intercept and slope for simple linear regression.\n",
      "    ==================  ====================================================\n",
      "    \n",
      "    Calculate covariance, Pearson's correlation, and simple linear regression\n",
      "    for two inputs:\n",
      "    \n",
      "    >>> x = [1, 2, 3, 4, 5, 6, 7, 8, 9]\n",
      "    >>> y = [1, 2, 3, 1, 2, 3, 1, 2, 3]\n",
      "    >>> covariance(x, y)\n",
      "    0.75\n",
      "    >>> correlation(x, y)  #doctest: +ELLIPSIS\n",
      "    0.31622776601...\n",
      "    >>> linear_regression(x, y)  #doctest:\n",
      "    LinearRegression(slope=0.1, intercept=1.5)\n",
      "    \n",
      "    \n",
      "    Exceptions\n",
      "    ----------\n",
      "    \n",
      "    A single exception is defined: StatisticsError is a subclass of ValueError.\n",
      "\n",
      "CLASSES\n",
      "    builtins.ValueError(builtins.Exception)\n",
      "        StatisticsError\n",
      "    builtins.object\n",
      "        NormalDist\n",
      "    \n",
      "    class NormalDist(builtins.object)\n",
      "     |  NormalDist(mu=0.0, sigma=1.0)\n",
      "     |  \n",
      "     |  Normal distribution of a random variable\n",
      "     |  \n",
      "     |  Methods defined here:\n",
      "     |  \n",
      "     |  __add__(x1, x2)\n",
      "     |      Add a constant or another NormalDist instance.\n",
      "     |      \n",
      "     |      If *other* is a constant, translate mu by the constant,\n",
      "     |      leaving sigma unchanged.\n",
      "     |      \n",
      "     |      If *other* is a NormalDist, add both the means and the variances.\n",
      "     |      Mathematically, this works only if the two distributions are\n",
      "     |      independent or if they are jointly normally distributed.\n",
      "     |  \n",
      "     |  __eq__(x1, x2)\n",
      "     |      Two NormalDist objects are equal if their mu and sigma are both equal.\n",
      "     |  \n",
      "     |  __hash__(self)\n",
      "     |      NormalDist objects hash equal if their mu and sigma are both equal.\n",
      "     |  \n",
      "     |  __init__(self, mu=0.0, sigma=1.0)\n",
      "     |      NormalDist where mu is the mean and sigma is the standard deviation.\n",
      "     |  \n",
      "     |  __mul__(x1, x2)\n",
      "     |      Multiply both mu and sigma by a constant.\n",
      "     |      \n",
      "     |      Used for rescaling, perhaps to change measurement units.\n",
      "     |      Sigma is scaled with the absolute value of the constant.\n",
      "     |  \n",
      "     |  __neg__(x1)\n",
      "     |      Negates mu while keeping sigma the same.\n",
      "     |  \n",
      "     |  __pos__(x1)\n",
      "     |      Return a copy of the instance.\n",
      "     |  \n",
      "     |  __radd__ = __add__(x1, x2)\n",
      "     |  \n",
      "     |  __repr__(self)\n",
      "     |      Return repr(self).\n",
      "     |  \n",
      "     |  __rmul__ = __mul__(x1, x2)\n",
      "     |  \n",
      "     |  __rsub__(x1, x2)\n",
      "     |      Subtract a NormalDist from a constant or another NormalDist.\n",
      "     |  \n",
      "     |  __sub__(x1, x2)\n",
      "     |      Subtract a constant or another NormalDist instance.\n",
      "     |      \n",
      "     |      If *other* is a constant, translate by the constant mu,\n",
      "     |      leaving sigma unchanged.\n",
      "     |      \n",
      "     |      If *other* is a NormalDist, subtract the means and add the variances.\n",
      "     |      Mathematically, this works only if the two distributions are\n",
      "     |      independent or if they are jointly normally distributed.\n",
      "     |  \n",
      "     |  __truediv__(x1, x2)\n",
      "     |      Divide both mu and sigma by a constant.\n",
      "     |      \n",
      "     |      Used for rescaling, perhaps to change measurement units.\n",
      "     |      Sigma is scaled with the absolute value of the constant.\n",
      "     |  \n",
      "     |  cdf(self, x)\n",
      "     |      Cumulative distribution function.  P(X <= x)\n",
      "     |  \n",
      "     |  inv_cdf(self, p)\n",
      "     |      Inverse cumulative distribution function.  x : P(X <= x) = p\n",
      "     |      \n",
      "     |      Finds the value of the random variable such that the probability of\n",
      "     |      the variable being less than or equal to that value equals the given\n",
      "     |      probability.\n",
      "     |      \n",
      "     |      This function is also called the percent point function or quantile\n",
      "     |      function.\n",
      "     |  \n",
      "     |  overlap(self, other)\n",
      "     |      Compute the overlapping coefficient (OVL) between two normal distributions.\n",
      "     |      \n",
      "     |      Measures the agreement between two normal probability distributions.\n",
      "     |      Returns a value between 0.0 and 1.0 giving the overlapping area in\n",
      "     |      the two underlying probability density functions.\n",
      "     |      \n",
      "     |          >>> N1 = NormalDist(2.4, 1.6)\n",
      "     |          >>> N2 = NormalDist(3.2, 2.0)\n",
      "     |          >>> N1.overlap(N2)\n",
      "     |          0.8035050657330205\n",
      "     |  \n",
      "     |  pdf(self, x)\n",
      "     |      Probability density function.  P(x <= X < x+dx) / dx\n",
      "     |  \n",
      "     |  quantiles(self, n=4)\n",
      "     |      Divide into *n* continuous intervals with equal probability.\n",
      "     |      \n",
      "     |      Returns a list of (n - 1) cut points separating the intervals.\n",
      "     |      \n",
      "     |      Set *n* to 4 for quartiles (the default).  Set *n* to 10 for deciles.\n",
      "     |      Set *n* to 100 for percentiles which gives the 99 cuts points that\n",
      "     |      separate the normal distribution in to 100 equal sized groups.\n",
      "     |  \n",
      "     |  samples(self, n, *, seed=None)\n",
      "     |      Generate *n* samples for a given mean and standard deviation.\n",
      "     |  \n",
      "     |  zscore(self, x)\n",
      "     |      Compute the Standard Score.  (x - mean) / stdev\n",
      "     |      \n",
      "     |      Describes *x* in terms of the number of standard deviations\n",
      "     |      above or below the mean of the normal distribution.\n",
      "     |  \n",
      "     |  ----------------------------------------------------------------------\n",
      "     |  Class methods defined here:\n",
      "     |  \n",
      "     |  from_samples(data) from builtins.type\n",
      "     |      Make a normal distribution instance from sample data.\n",
      "     |  \n",
      "     |  ----------------------------------------------------------------------\n",
      "     |  Readonly properties defined here:\n",
      "     |  \n",
      "     |  mean\n",
      "     |      Arithmetic mean of the normal distribution.\n",
      "     |  \n",
      "     |  median\n",
      "     |      Return the median of the normal distribution\n",
      "     |  \n",
      "     |  mode\n",
      "     |      Return the mode of the normal distribution\n",
      "     |      \n",
      "     |      The mode is the value x where which the probability density\n",
      "     |      function (pdf) takes its maximum value.\n",
      "     |  \n",
      "     |  stdev\n",
      "     |      Standard deviation of the normal distribution.\n",
      "     |  \n",
      "     |  variance\n",
      "     |      Square of the standard deviation.\n",
      "    \n",
      "    class StatisticsError(builtins.ValueError)\n",
      "     |  Method resolution order:\n",
      "     |      StatisticsError\n",
      "     |      builtins.ValueError\n",
      "     |      builtins.Exception\n",
      "     |      builtins.BaseException\n",
      "     |      builtins.object\n",
      "     |  \n",
      "     |  Data descriptors defined here:\n",
      "     |  \n",
      "     |  __weakref__\n",
      "     |      list of weak references to the object (if defined)\n",
      "     |  \n",
      "     |  ----------------------------------------------------------------------\n",
      "     |  Methods inherited from builtins.ValueError:\n",
      "     |  \n",
      "     |  __init__(self, /, *args, **kwargs)\n",
      "     |      Initialize self.  See help(type(self)) for accurate signature.\n",
      "     |  \n",
      "     |  ----------------------------------------------------------------------\n",
      "     |  Static methods inherited from builtins.ValueError:\n",
      "     |  \n",
      "     |  __new__(*args, **kwargs) from builtins.type\n",
      "     |      Create and return a new object.  See help(type) for accurate signature.\n",
      "     |  \n",
      "     |  ----------------------------------------------------------------------\n",
      "     |  Methods inherited from builtins.BaseException:\n",
      "     |  \n",
      "     |  __delattr__(self, name, /)\n",
      "     |      Implement delattr(self, name).\n",
      "     |  \n",
      "     |  __getattribute__(self, name, /)\n",
      "     |      Return getattr(self, name).\n",
      "     |  \n",
      "     |  __reduce__(...)\n",
      "     |      Helper for pickle.\n",
      "     |  \n",
      "     |  __repr__(self, /)\n",
      "     |      Return repr(self).\n",
      "     |  \n",
      "     |  __setattr__(self, name, value, /)\n",
      "     |      Implement setattr(self, name, value).\n",
      "     |  \n",
      "     |  __setstate__(...)\n",
      "     |  \n",
      "     |  __str__(self, /)\n",
      "     |      Return str(self).\n",
      "     |  \n",
      "     |  with_traceback(...)\n",
      "     |      Exception.with_traceback(tb) --\n",
      "     |      set self.__traceback__ to tb and return self.\n",
      "     |  \n",
      "     |  ----------------------------------------------------------------------\n",
      "     |  Data descriptors inherited from builtins.BaseException:\n",
      "     |  \n",
      "     |  __cause__\n",
      "     |      exception cause\n",
      "     |  \n",
      "     |  __context__\n",
      "     |      exception context\n",
      "     |  \n",
      "     |  __dict__\n",
      "     |  \n",
      "     |  __suppress_context__\n",
      "     |  \n",
      "     |  __traceback__\n",
      "     |  \n",
      "     |  args\n",
      "\n",
      "FUNCTIONS\n",
      "    correlation(x, y, /)\n",
      "        Pearson's correlation coefficient\n",
      "        \n",
      "        Return the Pearson's correlation coefficient for two inputs. Pearson's\n",
      "        correlation coefficient *r* takes values between -1 and +1. It measures the\n",
      "        strength and direction of the linear relationship, where +1 means very\n",
      "        strong, positive linear relationship, -1 very strong, negative linear\n",
      "        relationship, and 0 no linear relationship.\n",
      "        \n",
      "        >>> x = [1, 2, 3, 4, 5, 6, 7, 8, 9]\n",
      "        >>> y = [9, 8, 7, 6, 5, 4, 3, 2, 1]\n",
      "        >>> correlation(x, x)\n",
      "        1.0\n",
      "        >>> correlation(x, y)\n",
      "        -1.0\n",
      "    \n",
      "    covariance(x, y, /)\n",
      "        Covariance\n",
      "        \n",
      "        Return the sample covariance of two inputs *x* and *y*. Covariance\n",
      "        is a measure of the joint variability of two inputs.\n",
      "        \n",
      "        >>> x = [1, 2, 3, 4, 5, 6, 7, 8, 9]\n",
      "        >>> y = [1, 2, 3, 1, 2, 3, 1, 2, 3]\n",
      "        >>> covariance(x, y)\n",
      "        0.75\n",
      "        >>> z = [9, 8, 7, 6, 5, 4, 3, 2, 1]\n",
      "        >>> covariance(x, z)\n",
      "        -7.5\n",
      "        >>> covariance(z, x)\n",
      "        -7.5\n",
      "    \n",
      "    fmean(data)\n",
      "        Convert data to floats and compute the arithmetic mean.\n",
      "        \n",
      "        This runs faster than the mean() function and it always returns a float.\n",
      "        If the input dataset is empty, it raises a StatisticsError.\n",
      "        \n",
      "        >>> fmean([3.5, 4.0, 5.25])\n",
      "        4.25\n",
      "    \n",
      "    geometric_mean(data)\n",
      "        Convert data to floats and compute the geometric mean.\n",
      "        \n",
      "        Raises a StatisticsError if the input dataset is empty,\n",
      "        if it contains a zero, or if it contains a negative value.\n",
      "        \n",
      "        No special efforts are made to achieve exact results.\n",
      "        (However, this may change in the future.)\n",
      "        \n",
      "        >>> round(geometric_mean([54, 24, 36]), 9)\n",
      "        36.0\n",
      "    \n",
      "    harmonic_mean(data, weights=None)\n",
      "        Return the harmonic mean of data.\n",
      "        \n",
      "        The harmonic mean is the reciprocal of the arithmetic mean of the\n",
      "        reciprocals of the data.  It can be used for averaging ratios or\n",
      "        rates, for example speeds.\n",
      "        \n",
      "        Suppose a car travels 40 km/hr for 5 km and then speeds-up to\n",
      "        60 km/hr for another 5 km. What is the average speed?\n",
      "        \n",
      "            >>> harmonic_mean([40, 60])\n",
      "            48.0\n",
      "        \n",
      "        Suppose a car travels 40 km/hr for 5 km, and when traffic clears,\n",
      "        speeds-up to 60 km/hr for the remaining 30 km of the journey. What\n",
      "        is the average speed?\n",
      "        \n",
      "            >>> harmonic_mean([40, 60], weights=[5, 30])\n",
      "            56.0\n",
      "        \n",
      "        If ``data`` is empty, or any element is less than zero,\n",
      "        ``harmonic_mean`` will raise ``StatisticsError``.\n",
      "    \n",
      "    linear_regression(x, y, /)\n",
      "        Slope and intercept for simple linear regression.\n",
      "        \n",
      "        Return the slope and intercept of simple linear regression\n",
      "        parameters estimated using ordinary least squares. Simple linear\n",
      "        regression describes relationship between an independent variable\n",
      "        *x* and a dependent variable *y* in terms of linear function:\n",
      "        \n",
      "            y = slope * x + intercept + noise\n",
      "        \n",
      "        where *slope* and *intercept* are the regression parameters that are\n",
      "        estimated, and noise represents the variability of the data that was\n",
      "        not explained by the linear regression (it is equal to the\n",
      "        difference between predicted and actual values of the dependent\n",
      "        variable).\n",
      "        \n",
      "        The parameters are returned as a named tuple.\n",
      "        \n",
      "        >>> x = [1, 2, 3, 4, 5]\n",
      "        >>> noise = NormalDist().samples(5, seed=42)\n",
      "        >>> y = [3 * x[i] + 2 + noise[i] for i in range(5)]\n",
      "        >>> linear_regression(x, y)  #doctest: +ELLIPSIS\n",
      "        LinearRegression(slope=3.09078914170..., intercept=1.75684970486...)\n",
      "    \n",
      "    mean(data)\n",
      "        Return the sample arithmetic mean of data.\n",
      "        \n",
      "        >>> mean([1, 2, 3, 4, 4])\n",
      "        2.8\n",
      "        \n",
      "        >>> from fractions import Fraction as F\n",
      "        >>> mean([F(3, 7), F(1, 21), F(5, 3), F(1, 3)])\n",
      "        Fraction(13, 21)\n",
      "        \n",
      "        >>> from decimal import Decimal as D\n",
      "        >>> mean([D(\"0.5\"), D(\"0.75\"), D(\"0.625\"), D(\"0.375\")])\n",
      "        Decimal('0.5625')\n",
      "        \n",
      "        If ``data`` is empty, StatisticsError will be raised.\n",
      "    \n",
      "    median(data)\n",
      "        Return the median (middle value) of numeric data.\n",
      "        \n",
      "        When the number of data points is odd, return the middle data point.\n",
      "        When the number of data points is even, the median is interpolated by\n",
      "        taking the average of the two middle values:\n",
      "        \n",
      "        >>> median([1, 3, 5])\n",
      "        3\n",
      "        >>> median([1, 3, 5, 7])\n",
      "        4.0\n",
      "    \n",
      "    median_grouped(data, interval=1)\n",
      "        Return the 50th percentile (median) of grouped continuous data.\n",
      "        \n",
      "        >>> median_grouped([1, 2, 2, 3, 4, 4, 4, 4, 4, 5])\n",
      "        3.7\n",
      "        >>> median_grouped([52, 52, 53, 54])\n",
      "        52.5\n",
      "        \n",
      "        This calculates the median as the 50th percentile, and should be\n",
      "        used when your data is continuous and grouped. In the above example,\n",
      "        the values 1, 2, 3, etc. actually represent the midpoint of classes\n",
      "        0.5-1.5, 1.5-2.5, 2.5-3.5, etc. The middle value falls somewhere in\n",
      "        class 3.5-4.5, and interpolation is used to estimate it.\n",
      "        \n",
      "        Optional argument ``interval`` represents the class interval, and\n",
      "        defaults to 1. Changing the class interval naturally will change the\n",
      "        interpolated 50th percentile value:\n",
      "        \n",
      "        >>> median_grouped([1, 3, 3, 5, 7], interval=1)\n",
      "        3.25\n",
      "        >>> median_grouped([1, 3, 3, 5, 7], interval=2)\n",
      "        3.5\n",
      "        \n",
      "        This function does not check whether the data points are at least\n",
      "        ``interval`` apart.\n",
      "    \n",
      "    median_high(data)\n",
      "        Return the high median of data.\n",
      "        \n",
      "        When the number of data points is odd, the middle value is returned.\n",
      "        When it is even, the larger of the two middle values is returned.\n",
      "        \n",
      "        >>> median_high([1, 3, 5])\n",
      "        3\n",
      "        >>> median_high([1, 3, 5, 7])\n",
      "        5\n",
      "    \n",
      "    median_low(data)\n",
      "        Return the low median of numeric data.\n",
      "        \n",
      "        When the number of data points is odd, the middle value is returned.\n",
      "        When it is even, the smaller of the two middle values is returned.\n",
      "        \n",
      "        >>> median_low([1, 3, 5])\n",
      "        3\n",
      "        >>> median_low([1, 3, 5, 7])\n",
      "        3\n",
      "    \n",
      "    mode(data)\n",
      "        Return the most common data point from discrete or nominal data.\n",
      "        \n",
      "        ``mode`` assumes discrete data, and returns a single value. This is the\n",
      "        standard treatment of the mode as commonly taught in schools:\n",
      "        \n",
      "            >>> mode([1, 1, 2, 3, 3, 3, 3, 4])\n",
      "            3\n",
      "        \n",
      "        This also works with nominal (non-numeric) data:\n",
      "        \n",
      "            >>> mode([\"red\", \"blue\", \"blue\", \"red\", \"green\", \"red\", \"red\"])\n",
      "            'red'\n",
      "        \n",
      "        If there are multiple modes with same frequency, return the first one\n",
      "        encountered:\n",
      "        \n",
      "            >>> mode(['red', 'red', 'green', 'blue', 'blue'])\n",
      "            'red'\n",
      "        \n",
      "        If *data* is empty, ``mode``, raises StatisticsError.\n",
      "    \n",
      "    multimode(data)\n",
      "        Return a list of the most frequently occurring values.\n",
      "        \n",
      "        Will return more than one result if there are multiple modes\n",
      "        or an empty list if *data* is empty.\n",
      "        \n",
      "        >>> multimode('aabbbbbbbbcc')\n",
      "        ['b']\n",
      "        >>> multimode('aabbbbccddddeeffffgg')\n",
      "        ['b', 'd', 'f']\n",
      "        >>> multimode('')\n",
      "        []\n",
      "    \n",
      "    pstdev(data, mu=None)\n",
      "        Return the square root of the population variance.\n",
      "        \n",
      "        See ``pvariance`` for arguments and other details.\n",
      "        \n",
      "        >>> pstdev([1.5, 2.5, 2.5, 2.75, 3.25, 4.75])\n",
      "        0.986893273527251\n",
      "    \n",
      "    pvariance(data, mu=None)\n",
      "        Return the population variance of ``data``.\n",
      "        \n",
      "        data should be a sequence or iterable of Real-valued numbers, with at least one\n",
      "        value. The optional argument mu, if given, should be the mean of\n",
      "        the data. If it is missing or None, the mean is automatically calculated.\n",
      "        \n",
      "        Use this function to calculate the variance from the entire population.\n",
      "        To estimate the variance from a sample, the ``variance`` function is\n",
      "        usually a better choice.\n",
      "        \n",
      "        Examples:\n",
      "        \n",
      "        >>> data = [0.0, 0.25, 0.25, 1.25, 1.5, 1.75, 2.75, 3.25]\n",
      "        >>> pvariance(data)\n",
      "        1.25\n",
      "        \n",
      "        If you have already calculated the mean of the data, you can pass it as\n",
      "        the optional second argument to avoid recalculating it:\n",
      "        \n",
      "        >>> mu = mean(data)\n",
      "        >>> pvariance(data, mu)\n",
      "        1.25\n",
      "        \n",
      "        Decimals and Fractions are supported:\n",
      "        \n",
      "        >>> from decimal import Decimal as D\n",
      "        >>> pvariance([D(\"27.5\"), D(\"30.25\"), D(\"30.25\"), D(\"34.5\"), D(\"41.75\")])\n",
      "        Decimal('24.815')\n",
      "        \n",
      "        >>> from fractions import Fraction as F\n",
      "        >>> pvariance([F(1, 4), F(5, 4), F(1, 2)])\n",
      "        Fraction(13, 72)\n",
      "    \n",
      "    quantiles(data, *, n=4, method='exclusive')\n",
      "        Divide *data* into *n* continuous intervals with equal probability.\n",
      "        \n",
      "        Returns a list of (n - 1) cut points separating the intervals.\n",
      "        \n",
      "        Set *n* to 4 for quartiles (the default).  Set *n* to 10 for deciles.\n",
      "        Set *n* to 100 for percentiles which gives the 99 cuts points that\n",
      "        separate *data* in to 100 equal sized groups.\n",
      "        \n",
      "        The *data* can be any iterable containing sample.\n",
      "        The cut points are linearly interpolated between data points.\n",
      "        \n",
      "        If *method* is set to *inclusive*, *data* is treated as population\n",
      "        data.  The minimum value is treated as the 0th percentile and the\n",
      "        maximum value is treated as the 100th percentile.\n",
      "    \n",
      "    stdev(data, xbar=None)\n",
      "        Return the square root of the sample variance.\n",
      "        \n",
      "        See ``variance`` for arguments and other details.\n",
      "        \n",
      "        >>> stdev([1.5, 2.5, 2.5, 2.75, 3.25, 4.75])\n",
      "        1.0810874155219827\n",
      "    \n",
      "    variance(data, xbar=None)\n",
      "        Return the sample variance of data.\n",
      "        \n",
      "        data should be an iterable of Real-valued numbers, with at least two\n",
      "        values. The optional argument xbar, if given, should be the mean of\n",
      "        the data. If it is missing or None, the mean is automatically calculated.\n",
      "        \n",
      "        Use this function when your data is a sample from a population. To\n",
      "        calculate the variance from the entire population, see ``pvariance``.\n",
      "        \n",
      "        Examples:\n",
      "        \n",
      "        >>> data = [2.75, 1.75, 1.25, 0.25, 0.5, 1.25, 3.5]\n",
      "        >>> variance(data)\n",
      "        1.3720238095238095\n",
      "        \n",
      "        If you have already calculated the mean of your data, you can pass it as\n",
      "        the optional second argument ``xbar`` to avoid recalculating it:\n",
      "        \n",
      "        >>> m = mean(data)\n",
      "        >>> variance(data, m)\n",
      "        1.3720238095238095\n",
      "        \n",
      "        This function does not check that ``xbar`` is actually the mean of\n",
      "        ``data``. Giving arbitrary values for ``xbar`` may lead to invalid or\n",
      "        impossible results.\n",
      "        \n",
      "        Decimals and Fractions are supported:\n",
      "        \n",
      "        >>> from decimal import Decimal as D\n",
      "        >>> variance([D(\"27.5\"), D(\"30.25\"), D(\"30.25\"), D(\"34.5\"), D(\"41.75\")])\n",
      "        Decimal('31.01875')\n",
      "        \n",
      "        >>> from fractions import Fraction as F\n",
      "        >>> variance([F(1, 6), F(1, 2), F(5, 3)])\n",
      "        Fraction(67, 108)\n",
      "\n",
      "DATA\n",
      "    __all__ = ['NormalDist', 'StatisticsError', 'correlation', 'covariance...\n",
      "\n",
      "FILE\n",
      "    /Library/Frameworks/Python.framework/Versions/3.10/lib/python3.10/statistics.py\n",
      "\n",
      "\n"
     ]
    }
   ],
   "source": [
    "import statistics\n",
    "help(statistics)"
   ]
  },
  {
   "cell_type": "code",
   "execution_count": 157,
   "id": "e8d621f3",
   "metadata": {},
   "outputs": [
    {
     "name": "stdout",
     "output_type": "stream",
     "text": [
      "Help on module math:\n",
      "\n",
      "NAME\n",
      "    math\n",
      "\n",
      "MODULE REFERENCE\n",
      "    https://docs.python.org/3.10/library/math.html\n",
      "    \n",
      "    The following documentation is automatically generated from the Python\n",
      "    source files.  It may be incomplete, incorrect or include features that\n",
      "    are considered implementation detail and may vary between Python\n",
      "    implementations.  When in doubt, consult the module reference at the\n",
      "    location listed above.\n",
      "\n",
      "DESCRIPTION\n",
      "    This module provides access to the mathematical functions\n",
      "    defined by the C standard.\n",
      "\n",
      "FUNCTIONS\n",
      "    acos(x, /)\n",
      "        Return the arc cosine (measured in radians) of x.\n",
      "        \n",
      "        The result is between 0 and pi.\n",
      "    \n",
      "    acosh(x, /)\n",
      "        Return the inverse hyperbolic cosine of x.\n",
      "    \n",
      "    asin(x, /)\n",
      "        Return the arc sine (measured in radians) of x.\n",
      "        \n",
      "        The result is between -pi/2 and pi/2.\n",
      "    \n",
      "    asinh(x, /)\n",
      "        Return the inverse hyperbolic sine of x.\n",
      "    \n",
      "    atan(x, /)\n",
      "        Return the arc tangent (measured in radians) of x.\n",
      "        \n",
      "        The result is between -pi/2 and pi/2.\n",
      "    \n",
      "    atan2(y, x, /)\n",
      "        Return the arc tangent (measured in radians) of y/x.\n",
      "        \n",
      "        Unlike atan(y/x), the signs of both x and y are considered.\n",
      "    \n",
      "    atanh(x, /)\n",
      "        Return the inverse hyperbolic tangent of x.\n",
      "    \n",
      "    ceil(x, /)\n",
      "        Return the ceiling of x as an Integral.\n",
      "        \n",
      "        This is the smallest integer >= x.\n",
      "    \n",
      "    comb(n, k, /)\n",
      "        Number of ways to choose k items from n items without repetition and without order.\n",
      "        \n",
      "        Evaluates to n! / (k! * (n - k)!) when k <= n and evaluates\n",
      "        to zero when k > n.\n",
      "        \n",
      "        Also called the binomial coefficient because it is equivalent\n",
      "        to the coefficient of k-th term in polynomial expansion of the\n",
      "        expression (1 + x)**n.\n",
      "        \n",
      "        Raises TypeError if either of the arguments are not integers.\n",
      "        Raises ValueError if either of the arguments are negative.\n",
      "    \n",
      "    copysign(x, y, /)\n",
      "        Return a float with the magnitude (absolute value) of x but the sign of y.\n",
      "        \n",
      "        On platforms that support signed zeros, copysign(1.0, -0.0)\n",
      "        returns -1.0.\n",
      "    \n",
      "    cos(x, /)\n",
      "        Return the cosine of x (measured in radians).\n",
      "    \n",
      "    cosh(x, /)\n",
      "        Return the hyperbolic cosine of x.\n",
      "    \n",
      "    degrees(x, /)\n",
      "        Convert angle x from radians to degrees.\n",
      "    \n",
      "    dist(p, q, /)\n",
      "        Return the Euclidean distance between two points p and q.\n",
      "        \n",
      "        The points should be specified as sequences (or iterables) of\n",
      "        coordinates.  Both inputs must have the same dimension.\n",
      "        \n",
      "        Roughly equivalent to:\n",
      "            sqrt(sum((px - qx) ** 2.0 for px, qx in zip(p, q)))\n",
      "    \n",
      "    erf(x, /)\n",
      "        Error function at x.\n",
      "    \n",
      "    erfc(x, /)\n",
      "        Complementary error function at x.\n",
      "    \n",
      "    exp(x, /)\n",
      "        Return e raised to the power of x.\n",
      "    \n",
      "    expm1(x, /)\n",
      "        Return exp(x)-1.\n",
      "        \n",
      "        This function avoids the loss of precision involved in the direct evaluation of exp(x)-1 for small x.\n",
      "    \n",
      "    fabs(x, /)\n",
      "        Return the absolute value of the float x.\n",
      "    \n",
      "    factorial(x, /)\n",
      "        Find x!.\n",
      "        \n",
      "        Raise a ValueError if x is negative or non-integral.\n",
      "    \n",
      "    floor(x, /)\n",
      "        Return the floor of x as an Integral.\n",
      "        \n",
      "        This is the largest integer <= x.\n",
      "    \n",
      "    fmod(x, y, /)\n",
      "        Return fmod(x, y), according to platform C.\n",
      "        \n",
      "        x % y may differ.\n",
      "    \n",
      "    frexp(x, /)\n",
      "        Return the mantissa and exponent of x, as pair (m, e).\n",
      "        \n",
      "        m is a float and e is an int, such that x = m * 2.**e.\n",
      "        If x is 0, m and e are both 0.  Else 0.5 <= abs(m) < 1.0.\n",
      "    \n",
      "    fsum(seq, /)\n",
      "        Return an accurate floating point sum of values in the iterable seq.\n",
      "        \n",
      "        Assumes IEEE-754 floating point arithmetic.\n",
      "    \n",
      "    gamma(x, /)\n",
      "        Gamma function at x.\n",
      "    \n",
      "    gcd(*integers)\n",
      "        Greatest Common Divisor.\n",
      "    \n",
      "    hypot(...)\n",
      "        hypot(*coordinates) -> value\n",
      "        \n",
      "        Multidimensional Euclidean distance from the origin to a point.\n",
      "        \n",
      "        Roughly equivalent to:\n",
      "            sqrt(sum(x**2 for x in coordinates))\n",
      "        \n",
      "        For a two dimensional point (x, y), gives the hypotenuse\n",
      "        using the Pythagorean theorem:  sqrt(x*x + y*y).\n",
      "        \n",
      "        For example, the hypotenuse of a 3/4/5 right triangle is:\n",
      "        \n",
      "            >>> hypot(3.0, 4.0)\n",
      "            5.0\n",
      "    \n",
      "    isclose(a, b, *, rel_tol=1e-09, abs_tol=0.0)\n",
      "        Determine whether two floating point numbers are close in value.\n",
      "        \n",
      "          rel_tol\n",
      "            maximum difference for being considered \"close\", relative to the\n",
      "            magnitude of the input values\n",
      "          abs_tol\n",
      "            maximum difference for being considered \"close\", regardless of the\n",
      "            magnitude of the input values\n",
      "        \n",
      "        Return True if a is close in value to b, and False otherwise.\n",
      "        \n",
      "        For the values to be considered close, the difference between them\n",
      "        must be smaller than at least one of the tolerances.\n",
      "        \n",
      "        -inf, inf and NaN behave similarly to the IEEE 754 Standard.  That\n",
      "        is, NaN is not close to anything, even itself.  inf and -inf are\n",
      "        only close to themselves.\n",
      "    \n",
      "    isfinite(x, /)\n",
      "        Return True if x is neither an infinity nor a NaN, and False otherwise.\n",
      "    \n",
      "    isinf(x, /)\n",
      "        Return True if x is a positive or negative infinity, and False otherwise.\n",
      "    \n",
      "    isnan(x, /)\n",
      "        Return True if x is a NaN (not a number), and False otherwise.\n",
      "    \n",
      "    isqrt(n, /)\n",
      "        Return the integer part of the square root of the input.\n",
      "    \n",
      "    lcm(*integers)\n",
      "        Least Common Multiple.\n",
      "    \n",
      "    ldexp(x, i, /)\n",
      "        Return x * (2**i).\n",
      "        \n",
      "        This is essentially the inverse of frexp().\n",
      "    \n",
      "    lgamma(x, /)\n",
      "        Natural logarithm of absolute value of Gamma function at x.\n",
      "    \n",
      "    log(...)\n",
      "        log(x, [base=math.e])\n",
      "        Return the logarithm of x to the given base.\n",
      "        \n",
      "        If the base not specified, returns the natural logarithm (base e) of x.\n",
      "    \n",
      "    log10(x, /)\n",
      "        Return the base 10 logarithm of x.\n",
      "    \n",
      "    log1p(x, /)\n",
      "        Return the natural logarithm of 1+x (base e).\n",
      "        \n",
      "        The result is computed in a way which is accurate for x near zero.\n",
      "    \n",
      "    log2(x, /)\n",
      "        Return the base 2 logarithm of x.\n",
      "    \n",
      "    modf(x, /)\n",
      "        Return the fractional and integer parts of x.\n",
      "        \n",
      "        Both results carry the sign of x and are floats.\n",
      "    \n",
      "    nextafter(x, y, /)\n",
      "        Return the next floating-point value after x towards y.\n",
      "    \n",
      "    perm(n, k=None, /)\n",
      "        Number of ways to choose k items from n items without repetition and with order.\n",
      "        \n",
      "        Evaluates to n! / (n - k)! when k <= n and evaluates\n",
      "        to zero when k > n.\n",
      "        \n",
      "        If k is not specified or is None, then k defaults to n\n",
      "        and the function returns n!.\n",
      "        \n",
      "        Raises TypeError if either of the arguments are not integers.\n",
      "        Raises ValueError if either of the arguments are negative.\n",
      "    \n",
      "    pow(x, y, /)\n",
      "        Return x**y (x to the power of y).\n",
      "    \n",
      "    prod(iterable, /, *, start=1)\n",
      "        Calculate the product of all the elements in the input iterable.\n",
      "        \n",
      "        The default start value for the product is 1.\n",
      "        \n",
      "        When the iterable is empty, return the start value.  This function is\n",
      "        intended specifically for use with numeric values and may reject\n",
      "        non-numeric types.\n",
      "    \n",
      "    radians(x, /)\n",
      "        Convert angle x from degrees to radians.\n",
      "    \n",
      "    remainder(x, y, /)\n",
      "        Difference between x and the closest integer multiple of y.\n",
      "        \n",
      "        Return x - n*y where n*y is the closest integer multiple of y.\n",
      "        In the case where x is exactly halfway between two multiples of\n",
      "        y, the nearest even value of n is used. The result is always exact.\n",
      "    \n",
      "    sin(x, /)\n",
      "        Return the sine of x (measured in radians).\n",
      "    \n",
      "    sinh(x, /)\n",
      "        Return the hyperbolic sine of x.\n",
      "    \n",
      "    sqrt(x, /)\n",
      "        Return the square root of x.\n",
      "    \n",
      "    tan(x, /)\n",
      "        Return the tangent of x (measured in radians).\n",
      "    \n",
      "    tanh(x, /)\n",
      "        Return the hyperbolic tangent of x.\n",
      "    \n",
      "    trunc(x, /)\n",
      "        Truncates the Real x to the nearest Integral toward 0.\n",
      "        \n",
      "        Uses the __trunc__ magic method.\n",
      "    \n",
      "    ulp(x, /)\n",
      "        Return the value of the least significant bit of the float x.\n",
      "\n",
      "DATA\n",
      "    e = 2.718281828459045\n",
      "    inf = inf\n",
      "    nan = nan\n",
      "    pi = 3.141592653589793\n",
      "    tau = 6.283185307179586\n",
      "\n",
      "FILE\n",
      "    /Library/Frameworks/Python.framework/Versions/3.10/lib/python3.10/lib-dynload/math.cpython-310-darwin.so\n",
      "\n",
      "\n"
     ]
    }
   ],
   "source": [
    "help (math)"
   ]
  },
  {
   "cell_type": "code",
   "execution_count": null,
   "id": "485ddb0b",
   "metadata": {},
   "outputs": [],
   "source": []
  }
 ],
 "metadata": {
  "kernelspec": {
   "display_name": "Python 3 (ipykernel)",
   "language": "python",
   "name": "python3"
  },
  "language_info": {
   "codemirror_mode": {
    "name": "ipython",
    "version": 3
   },
   "file_extension": ".py",
   "mimetype": "text/x-python",
   "name": "python",
   "nbconvert_exporter": "python",
   "pygments_lexer": "ipython3",
   "version": "3.10.1"
  }
 },
 "nbformat": 4,
 "nbformat_minor": 5
}
